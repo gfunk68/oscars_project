{
 "cells": [
  {
   "cell_type": "code",
   "execution_count": 1,
   "metadata": {},
   "outputs": [],
   "source": [
    "#Import dependencies\n",
    "import pandas as pd\n",
    "import re\n",
    "\n",
    "# Dependencies for MongoDB\n",
    "import pymongo\n",
    "from pprint import pprint  # For json output easy to read\n",
    "\n",
    "# Dependency to convert dataframe to json format for MongoDB\n",
    "import json\n",
    "\n",
    "import requests\n",
    "import os\n",
    "\n",
    "import sys\n",
    "\n",
    "from bs4 import BeautifulSoup as bs"
   ]
  },
  {
   "cell_type": "code",
   "execution_count": 2,
   "metadata": {},
   "outputs": [
    {
     "data": {
      "text/plain": [
       "'https://en.wikipedia.org/wiki/Academy_Award_for_Best_Actor'"
      ]
     },
     "execution_count": 2,
     "metadata": {},
     "output_type": "execute_result"
    }
   ],
   "source": [
    "url = \"https://en.wikipedia.org/wiki/Academy_Award_for_Best_Actor\"\n",
    "url"
   ]
  },
  {
   "cell_type": "code",
   "execution_count": 3,
   "metadata": {},
   "outputs": [],
   "source": [
    "#res = requests.get(url)\n",
    "#res"
   ]
  },
  {
   "cell_type": "code",
   "execution_count": 4,
   "metadata": {},
   "outputs": [],
   "source": [
    "#table = soup.find(class_= \"wikitable sortable\").find(\"tbody\")"
   ]
  },
  {
   "cell_type": "code",
   "execution_count": 5,
   "metadata": {},
   "outputs": [],
   "source": [
    "#l = table.find_all(style=\"background:#FAEB86;\")\n",
    "#m = l[276].text.strip()\n",
    "#print(m)"
   ]
  },
  {
   "cell_type": "code",
   "execution_count": 6,
   "metadata": {},
   "outputs": [
    {
     "data": {
      "text/html": [
       "<div>\n",
       "<style scoped>\n",
       "    .dataframe tbody tr th:only-of-type {\n",
       "        vertical-align: middle;\n",
       "    }\n",
       "\n",
       "    .dataframe tbody tr th {\n",
       "        vertical-align: top;\n",
       "    }\n",
       "\n",
       "    .dataframe thead th {\n",
       "        text-align: right;\n",
       "    }\n",
       "</style>\n",
       "<table border=\"1\" class=\"dataframe\">\n",
       "  <thead>\n",
       "    <tr style=\"text-align: right;\">\n",
       "      <th></th>\n",
       "      <th>Year</th>\n",
       "      <th>Actor</th>\n",
       "      <th>Role(s)</th>\n",
       "      <th>Film</th>\n",
       "      <th>Ref.</th>\n",
       "    </tr>\n",
       "  </thead>\n",
       "  <tbody>\n",
       "    <tr>\n",
       "      <td>0</td>\n",
       "      <td>1927/28 (1st)</td>\n",
       "      <td>Emil Jannings [A]</td>\n",
       "      <td>Grand Duke Sergius AlexanderAugust Schilling</td>\n",
       "      <td>The Last CommandThe Way of All Flesh</td>\n",
       "      <td>[10]</td>\n",
       "    </tr>\n",
       "    <tr>\n",
       "      <td>1</td>\n",
       "      <td>1927/28 (1st)</td>\n",
       "      <td>Richard Barthelmess</td>\n",
       "      <td>Nickie ElkinsPatent Leather Kid</td>\n",
       "      <td>The NooseThe Patent Leather Kid</td>\n",
       "      <td>[10]</td>\n",
       "    </tr>\n",
       "    <tr>\n",
       "      <td>2</td>\n",
       "      <td>1928/29(2nd)[note 1]</td>\n",
       "      <td>Warner Baxter</td>\n",
       "      <td>The Cisco Kid</td>\n",
       "      <td>In Old Arizona</td>\n",
       "      <td>[11]</td>\n",
       "    </tr>\n",
       "    <tr>\n",
       "      <td>3</td>\n",
       "      <td>1928/29(2nd)[note 1]</td>\n",
       "      <td>George Bancroft</td>\n",
       "      <td>Thunderbolt Jim Lang</td>\n",
       "      <td>Thunderbolt</td>\n",
       "      <td>[11]</td>\n",
       "    </tr>\n",
       "    <tr>\n",
       "      <td>4</td>\n",
       "      <td>1928/29(2nd)[note 1]</td>\n",
       "      <td>Chester Morris</td>\n",
       "      <td>Chick Williams</td>\n",
       "      <td>Alibi</td>\n",
       "      <td>[11]</td>\n",
       "    </tr>\n",
       "    <tr>\n",
       "      <td>5</td>\n",
       "      <td>1928/29(2nd)[note 1]</td>\n",
       "      <td>Paul Muni</td>\n",
       "      <td>James Dyke</td>\n",
       "      <td>The Valiant</td>\n",
       "      <td>[11]</td>\n",
       "    </tr>\n",
       "    <tr>\n",
       "      <td>6</td>\n",
       "      <td>1928/29(2nd)[note 1]</td>\n",
       "      <td>Lewis Stone</td>\n",
       "      <td>Count Pahlen</td>\n",
       "      <td>The Patriot</td>\n",
       "      <td>[11]</td>\n",
       "    </tr>\n",
       "    <tr>\n",
       "      <td>7</td>\n",
       "      <td>1929/30 (3rd)</td>\n",
       "      <td>George Arliss [B]</td>\n",
       "      <td>Benjamin Disraeli</td>\n",
       "      <td>Disraeli</td>\n",
       "      <td>[12]</td>\n",
       "    </tr>\n",
       "    <tr>\n",
       "      <td>8</td>\n",
       "      <td>1929/30 (3rd)</td>\n",
       "      <td>George Arliss[B]</td>\n",
       "      <td>The Raja</td>\n",
       "      <td>The Green Goddess</td>\n",
       "      <td>[12]</td>\n",
       "    </tr>\n",
       "    <tr>\n",
       "      <td>9</td>\n",
       "      <td>1929/30 (3rd)</td>\n",
       "      <td>Wallace Beery</td>\n",
       "      <td>Butch \"Machine Gun\" Schmidt</td>\n",
       "      <td>The Big House</td>\n",
       "      <td>[12]</td>\n",
       "    </tr>\n",
       "    <tr>\n",
       "      <td>10</td>\n",
       "      <td>1929/30 (3rd)</td>\n",
       "      <td>Maurice Chevalier [B]</td>\n",
       "      <td>Pierre Mirande Count Alfred Renard</td>\n",
       "      <td>The Big Pond The Love Parade</td>\n",
       "      <td>[12]</td>\n",
       "    </tr>\n",
       "    <tr>\n",
       "      <td>11</td>\n",
       "      <td>1929/30 (3rd)</td>\n",
       "      <td>Ronald Colman [B]</td>\n",
       "      <td>Capt. Hugh \"Bulldog\" Drummond Michel</td>\n",
       "      <td>Bulldog Drummond Condemned</td>\n",
       "      <td>[12]</td>\n",
       "    </tr>\n",
       "    <tr>\n",
       "      <td>12</td>\n",
       "      <td>1929/30 (3rd)</td>\n",
       "      <td>Lawrence Tibbett</td>\n",
       "      <td>Yegor</td>\n",
       "      <td>The Rogue Song</td>\n",
       "      <td>[12]</td>\n",
       "    </tr>\n",
       "    <tr>\n",
       "      <td>13</td>\n",
       "      <td>1930/31 (4th)</td>\n",
       "      <td>Lionel Barrymore</td>\n",
       "      <td>Stephen Ashe</td>\n",
       "      <td>A Free Soul</td>\n",
       "      <td>[13]</td>\n",
       "    </tr>\n",
       "    <tr>\n",
       "      <td>14</td>\n",
       "      <td>1930/31 (4th)</td>\n",
       "      <td>Jackie Cooper</td>\n",
       "      <td>Skippy Skinner</td>\n",
       "      <td>Skippy</td>\n",
       "      <td>[13]</td>\n",
       "    </tr>\n",
       "    <tr>\n",
       "      <td>15</td>\n",
       "      <td>1930/31 (4th)</td>\n",
       "      <td>Richard Dix</td>\n",
       "      <td>Yancey Cravat</td>\n",
       "      <td>Cimarron</td>\n",
       "      <td>[13]</td>\n",
       "    </tr>\n",
       "    <tr>\n",
       "      <td>16</td>\n",
       "      <td>1930/31 (4th)</td>\n",
       "      <td>Fredric March</td>\n",
       "      <td>Tony Cavendish</td>\n",
       "      <td>The Royal Family of Broadway</td>\n",
       "      <td>[13]</td>\n",
       "    </tr>\n",
       "    <tr>\n",
       "      <td>17</td>\n",
       "      <td>1930/31 (4th)</td>\n",
       "      <td>Adolphe Menjou</td>\n",
       "      <td>Walter Burns</td>\n",
       "      <td>The Front Page</td>\n",
       "      <td>[13]</td>\n",
       "    </tr>\n",
       "    <tr>\n",
       "      <td>18</td>\n",
       "      <td>1931/32 (5th)</td>\n",
       "      <td>Wallace Beery (TIE) [C]</td>\n",
       "      <td>Andy \"Champ\" Purcell</td>\n",
       "      <td>The Champ</td>\n",
       "      <td>[14]</td>\n",
       "    </tr>\n",
       "    <tr>\n",
       "      <td>19</td>\n",
       "      <td>1931/32 (5th)</td>\n",
       "      <td>Fredric March (TIE) [C]</td>\n",
       "      <td>Dr. Henry Jekyll / Mr. Edward Hyde</td>\n",
       "      <td>Dr. Jekyll and Mr. Hyde</td>\n",
       "      <td>[14]</td>\n",
       "    </tr>\n",
       "  </tbody>\n",
       "</table>\n",
       "</div>"
      ],
      "text/plain": [
       "                    Year                    Actor  \\\n",
       "0          1927/28 (1st)        Emil Jannings [A]   \n",
       "1          1927/28 (1st)      Richard Barthelmess   \n",
       "2   1928/29(2nd)[note 1]            Warner Baxter   \n",
       "3   1928/29(2nd)[note 1]          George Bancroft   \n",
       "4   1928/29(2nd)[note 1]           Chester Morris   \n",
       "5   1928/29(2nd)[note 1]                Paul Muni   \n",
       "6   1928/29(2nd)[note 1]              Lewis Stone   \n",
       "7          1929/30 (3rd)        George Arliss [B]   \n",
       "8          1929/30 (3rd)         George Arliss[B]   \n",
       "9          1929/30 (3rd)            Wallace Beery   \n",
       "10         1929/30 (3rd)    Maurice Chevalier [B]   \n",
       "11         1929/30 (3rd)        Ronald Colman [B]   \n",
       "12         1929/30 (3rd)         Lawrence Tibbett   \n",
       "13         1930/31 (4th)         Lionel Barrymore   \n",
       "14         1930/31 (4th)            Jackie Cooper   \n",
       "15         1930/31 (4th)              Richard Dix   \n",
       "16         1930/31 (4th)            Fredric March   \n",
       "17         1930/31 (4th)           Adolphe Menjou   \n",
       "18         1931/32 (5th)  Wallace Beery (TIE) [C]   \n",
       "19         1931/32 (5th)  Fredric March (TIE) [C]   \n",
       "\n",
       "                                         Role(s)  \\\n",
       "0   Grand Duke Sergius AlexanderAugust Schilling   \n",
       "1                Nickie ElkinsPatent Leather Kid   \n",
       "2                                  The Cisco Kid   \n",
       "3                           Thunderbolt Jim Lang   \n",
       "4                                 Chick Williams   \n",
       "5                                     James Dyke   \n",
       "6                                   Count Pahlen   \n",
       "7                              Benjamin Disraeli   \n",
       "8                                       The Raja   \n",
       "9                    Butch \"Machine Gun\" Schmidt   \n",
       "10            Pierre Mirande Count Alfred Renard   \n",
       "11          Capt. Hugh \"Bulldog\" Drummond Michel   \n",
       "12                                         Yegor   \n",
       "13                                  Stephen Ashe   \n",
       "14                                Skippy Skinner   \n",
       "15                                 Yancey Cravat   \n",
       "16                                Tony Cavendish   \n",
       "17                                  Walter Burns   \n",
       "18                          Andy \"Champ\" Purcell   \n",
       "19            Dr. Henry Jekyll / Mr. Edward Hyde   \n",
       "\n",
       "                                    Film  Ref.  \n",
       "0   The Last CommandThe Way of All Flesh  [10]  \n",
       "1        The NooseThe Patent Leather Kid  [10]  \n",
       "2                         In Old Arizona  [11]  \n",
       "3                            Thunderbolt  [11]  \n",
       "4                                  Alibi  [11]  \n",
       "5                            The Valiant  [11]  \n",
       "6                            The Patriot  [11]  \n",
       "7                               Disraeli  [12]  \n",
       "8                      The Green Goddess  [12]  \n",
       "9                          The Big House  [12]  \n",
       "10          The Big Pond The Love Parade  [12]  \n",
       "11            Bulldog Drummond Condemned  [12]  \n",
       "12                        The Rogue Song  [12]  \n",
       "13                           A Free Soul  [13]  \n",
       "14                                Skippy  [13]  \n",
       "15                              Cimarron  [13]  \n",
       "16          The Royal Family of Broadway  [13]  \n",
       "17                        The Front Page  [13]  \n",
       "18                             The Champ  [14]  \n",
       "19               Dr. Jekyll and Mr. Hyde  [14]  "
      ]
     },
     "execution_count": 6,
     "metadata": {},
     "output_type": "execute_result"
    }
   ],
   "source": [
    "#Import raw data from webpage\n",
    "raw_df = pd.read_html(\"https://en.wikipedia.org/wiki/Academy_Award_for_Best_Actor\")[2]\n",
    "raw_df.head(20)"
   ]
  },
  {
   "cell_type": "code",
   "execution_count": 7,
   "metadata": {},
   "outputs": [
    {
     "data": {
      "text/plain": [
       "[18, 19]"
      ]
     },
     "execution_count": 7,
     "metadata": {},
     "output_type": "execute_result"
    }
   ],
   "source": [
    "tie_index = []\n",
    "unique_index = []\n",
    "\n",
    "# this is for \"Tie-up\" data , In 5th year , 2 actors won the Academy Award \n",
    "\n",
    "for i in range(len(raw_df)):\n",
    "    if (raw_df[\"Actor\"][i].find(\"(TIE)\")==-1):\n",
    "        unique_index.append(i)\n",
    "    else:\n",
    "        tie_index.append(i)\n",
    "       \n",
    "    \n",
    "tie_index"
   ]
  },
  {
   "cell_type": "code",
   "execution_count": 8,
   "metadata": {},
   "outputs": [
    {
     "data": {
      "text/plain": [
       "93"
      ]
     },
     "execution_count": 8,
     "metadata": {},
     "output_type": "execute_result"
    }
   ],
   "source": [
    "year_unique_tie = []\n",
    "actor_unique_tie = []\n",
    "film_unique_tie = []\n",
    "m=0\n",
    "#Loop through the data to select only the Best Actor winners in each year. \n",
    "#Best Actor is always listed first in each Oscar year amongst the nominees.\n",
    "\n",
    "for i in (range(len(raw_df))):  \n",
    "    #print(i)\n",
    "    if i in tie_index:\n",
    "        #print(i)\n",
    "        year_unique_tie.append(raw_df['Year'][i])\n",
    "        actor_unique_tie.append(raw_df['Actor'][i])\n",
    "        film_unique_tie.append(raw_df['Film'][i])\n",
    "        \n",
    "    else:\n",
    "        #print(i)\n",
    "        if raw_df['Year'][i] not in year_unique_tie:\n",
    "            year_unique_tie.append(raw_df['Year'][i])\n",
    "            actor_unique_tie.append(raw_df['Actor'][i])\n",
    "            film_unique_tie.append(raw_df['Film'][i]) \n",
    "    \n",
    "len(actor_unique_tie)  "
   ]
  },
  {
   "cell_type": "code",
   "execution_count": 10,
   "metadata": {},
   "outputs": [
    {
     "data": {
      "text/html": [
       "<div>\n",
       "<style scoped>\n",
       "    .dataframe tbody tr th:only-of-type {\n",
       "        vertical-align: middle;\n",
       "    }\n",
       "\n",
       "    .dataframe tbody tr th {\n",
       "        vertical-align: top;\n",
       "    }\n",
       "\n",
       "    .dataframe thead th {\n",
       "        text-align: right;\n",
       "    }\n",
       "</style>\n",
       "<table border=\"1\" class=\"dataframe\">\n",
       "  <thead>\n",
       "    <tr style=\"text-align: right;\">\n",
       "      <th></th>\n",
       "      <th>Years</th>\n",
       "      <th>Winner Name</th>\n",
       "      <th>Film</th>\n",
       "      <th>Category</th>\n",
       "    </tr>\n",
       "  </thead>\n",
       "  <tbody>\n",
       "    <tr>\n",
       "      <td>0</td>\n",
       "      <td>1927/28 (1st)</td>\n",
       "      <td>Emil Jannings [A]</td>\n",
       "      <td>The Last CommandThe Way of All Flesh</td>\n",
       "      <td>Best Actor</td>\n",
       "    </tr>\n",
       "    <tr>\n",
       "      <td>1</td>\n",
       "      <td>1928/29(2nd)[note 1]</td>\n",
       "      <td>Warner Baxter</td>\n",
       "      <td>In Old Arizona</td>\n",
       "      <td>Best Actor</td>\n",
       "    </tr>\n",
       "    <tr>\n",
       "      <td>2</td>\n",
       "      <td>1929/30 (3rd)</td>\n",
       "      <td>George Arliss [B]</td>\n",
       "      <td>Disraeli</td>\n",
       "      <td>Best Actor</td>\n",
       "    </tr>\n",
       "    <tr>\n",
       "      <td>3</td>\n",
       "      <td>1930/31 (4th)</td>\n",
       "      <td>Lionel Barrymore</td>\n",
       "      <td>A Free Soul</td>\n",
       "      <td>Best Actor</td>\n",
       "    </tr>\n",
       "    <tr>\n",
       "      <td>4</td>\n",
       "      <td>1931/32 (5th)</td>\n",
       "      <td>Wallace Beery (TIE) [C]</td>\n",
       "      <td>The Champ</td>\n",
       "      <td>Best Actor</td>\n",
       "    </tr>\n",
       "    <tr>\n",
       "      <td>...</td>\n",
       "      <td>...</td>\n",
       "      <td>...</td>\n",
       "      <td>...</td>\n",
       "      <td>...</td>\n",
       "    </tr>\n",
       "    <tr>\n",
       "      <td>88</td>\n",
       "      <td>2015 (88th)</td>\n",
       "      <td>Leonardo DiCaprio</td>\n",
       "      <td>The Revenant</td>\n",
       "      <td>Best Actor</td>\n",
       "    </tr>\n",
       "    <tr>\n",
       "      <td>89</td>\n",
       "      <td>2016 (89th)</td>\n",
       "      <td>Casey Affleck</td>\n",
       "      <td>Manchester by the Sea</td>\n",
       "      <td>Best Actor</td>\n",
       "    </tr>\n",
       "    <tr>\n",
       "      <td>90</td>\n",
       "      <td>2017 (90th)</td>\n",
       "      <td>Gary Oldman</td>\n",
       "      <td>Darkest Hour</td>\n",
       "      <td>Best Actor</td>\n",
       "    </tr>\n",
       "    <tr>\n",
       "      <td>91</td>\n",
       "      <td>2018 (91st)</td>\n",
       "      <td>Rami Malek</td>\n",
       "      <td>Bohemian Rhapsody</td>\n",
       "      <td>Best Actor</td>\n",
       "    </tr>\n",
       "    <tr>\n",
       "      <td>92</td>\n",
       "      <td>2019 (92nd)</td>\n",
       "      <td>Joaquin Phoenix</td>\n",
       "      <td>Joker</td>\n",
       "      <td>Best Actor</td>\n",
       "    </tr>\n",
       "  </tbody>\n",
       "</table>\n",
       "<p>93 rows × 4 columns</p>\n",
       "</div>"
      ],
      "text/plain": [
       "                   Years              Winner Name  \\\n",
       "0          1927/28 (1st)        Emil Jannings [A]   \n",
       "1   1928/29(2nd)[note 1]            Warner Baxter   \n",
       "2          1929/30 (3rd)        George Arliss [B]   \n",
       "3          1930/31 (4th)         Lionel Barrymore   \n",
       "4          1931/32 (5th)  Wallace Beery (TIE) [C]   \n",
       "..                   ...                      ...   \n",
       "88           2015 (88th)        Leonardo DiCaprio   \n",
       "89           2016 (89th)            Casey Affleck   \n",
       "90           2017 (90th)              Gary Oldman   \n",
       "91           2018 (91st)               Rami Malek   \n",
       "92           2019 (92nd)          Joaquin Phoenix   \n",
       "\n",
       "                                    Film    Category  \n",
       "0   The Last CommandThe Way of All Flesh  Best Actor  \n",
       "1                         In Old Arizona  Best Actor  \n",
       "2                               Disraeli  Best Actor  \n",
       "3                            A Free Soul  Best Actor  \n",
       "4                              The Champ  Best Actor  \n",
       "..                                   ...         ...  \n",
       "88                          The Revenant  Best Actor  \n",
       "89                 Manchester by the Sea  Best Actor  \n",
       "90                          Darkest Hour  Best Actor  \n",
       "91                     Bohemian Rhapsody  Best Actor  \n",
       "92                                 Joker  Best Actor  \n",
       "\n",
       "[93 rows x 4 columns]"
      ]
     },
     "execution_count": 10,
     "metadata": {},
     "output_type": "execute_result"
    }
   ],
   "source": [
    "bestactor_df = pd.DataFrame({\"Years\": year_unique_tie, \"Winner Name\":actor_unique_tie, \"Film\": film_unique_tie ,\"Category\":\"Best Actor\"})\n",
    "bestactor_df"
   ]
  },
  {
   "cell_type": "code",
   "execution_count": 12,
   "metadata": {},
   "outputs": [
    {
     "data": {
      "text/plain": [
       "list"
      ]
     },
     "execution_count": 12,
     "metadata": {},
     "output_type": "execute_result"
    }
   ],
   "source": [
    "winnernames = [bestactor_df[\"Winner Name\"]]\n",
    "for n in range(len(winnernames[0])):\n",
    "    #print(winnernames[0][n])\n",
    "    actor_unique_tie[n]=re.sub(\"[\\(\\[].*?[\\)\\]]\",\"\",winnernames[0][n])\n",
    "    \n",
    "#winnernames[0]\n",
    "type(actor_unique_tie)"
   ]
  },
  {
   "cell_type": "code",
   "execution_count": 13,
   "metadata": {},
   "outputs": [],
   "source": [
    "actor_url = []\n",
    "for i in actor_unique_tie:\n",
    "    #print(i)\n",
    "    actor_url.append((f\"https://en.wikipedia.org/wiki/{i}\"))"
   ]
  },
  {
   "cell_type": "code",
   "execution_count": 15,
   "metadata": {},
   "outputs": [],
   "source": [
    "#actor_url"
   ]
  },
  {
   "cell_type": "code",
   "execution_count": 16,
   "metadata": {},
   "outputs": [],
   "source": [
    "#Create List of unique oscar years\n",
    "#list_of_years = raw_df.Year.unique()\n",
    "#list_of_years\n",
    "#actor_url"
   ]
  },
  {
   "cell_type": "code",
   "execution_count": 17,
   "metadata": {},
   "outputs": [],
   "source": [
    "bestactor_df[\"Wiki URL\"] =actor_url"
   ]
  },
  {
   "cell_type": "code",
   "execution_count": 14,
   "metadata": {},
   "outputs": [],
   "source": [
    "#Loop through the data to select only the Best Actor winners in each year. \n",
    "#Best Actor is always listed first in each Oscar year amongst the nominees.\n",
    "#years = []\n",
    "#actor=[]\n",
    "#film=[]\n",
    "\n",
    "#for x in list_of_years:\n",
    "    #years.append(raw_df[raw_df[\"Year\"]==x].iloc[0][\"Year\"])\n",
    "    #actor.append(raw_df[raw_df[\"Year\"]==x].iloc[0][\"Actor\"])\n",
    "    #film.append(raw_df[raw_df[\"Year\"]==x].iloc[0][\"Film\"])"
   ]
  },
  {
   "cell_type": "code",
   "execution_count": 18,
   "metadata": {},
   "outputs": [
    {
     "data": {
      "text/html": [
       "<div>\n",
       "<style scoped>\n",
       "    .dataframe tbody tr th:only-of-type {\n",
       "        vertical-align: middle;\n",
       "    }\n",
       "\n",
       "    .dataframe tbody tr th {\n",
       "        vertical-align: top;\n",
       "    }\n",
       "\n",
       "    .dataframe thead th {\n",
       "        text-align: right;\n",
       "    }\n",
       "</style>\n",
       "<table border=\"1\" class=\"dataframe\">\n",
       "  <thead>\n",
       "    <tr style=\"text-align: right;\">\n",
       "      <th></th>\n",
       "      <th>Years</th>\n",
       "      <th>Winner Name</th>\n",
       "      <th>Film</th>\n",
       "      <th>Category</th>\n",
       "      <th>Wiki URL</th>\n",
       "    </tr>\n",
       "  </thead>\n",
       "  <tbody>\n",
       "    <tr>\n",
       "      <td>0</td>\n",
       "      <td>1927/28 (1st)</td>\n",
       "      <td>Emil Jannings [A]</td>\n",
       "      <td>The Last CommandThe Way of All Flesh</td>\n",
       "      <td>Best Actor</td>\n",
       "      <td>https://en.wikipedia.org/wiki/Emil Jannings</td>\n",
       "    </tr>\n",
       "    <tr>\n",
       "      <td>1</td>\n",
       "      <td>1928/29(2nd)[note 1]</td>\n",
       "      <td>Warner Baxter</td>\n",
       "      <td>In Old Arizona</td>\n",
       "      <td>Best Actor</td>\n",
       "      <td>https://en.wikipedia.org/wiki/Warner Baxter</td>\n",
       "    </tr>\n",
       "    <tr>\n",
       "      <td>2</td>\n",
       "      <td>1929/30 (3rd)</td>\n",
       "      <td>George Arliss [B]</td>\n",
       "      <td>Disraeli</td>\n",
       "      <td>Best Actor</td>\n",
       "      <td>https://en.wikipedia.org/wiki/George Arliss</td>\n",
       "    </tr>\n",
       "    <tr>\n",
       "      <td>3</td>\n",
       "      <td>1930/31 (4th)</td>\n",
       "      <td>Lionel Barrymore</td>\n",
       "      <td>A Free Soul</td>\n",
       "      <td>Best Actor</td>\n",
       "      <td>https://en.wikipedia.org/wiki/Lionel Barrymore</td>\n",
       "    </tr>\n",
       "    <tr>\n",
       "      <td>4</td>\n",
       "      <td>1931/32 (5th)</td>\n",
       "      <td>Wallace Beery (TIE) [C]</td>\n",
       "      <td>The Champ</td>\n",
       "      <td>Best Actor</td>\n",
       "      <td>https://en.wikipedia.org/wiki/Wallace Beery</td>\n",
       "    </tr>\n",
       "    <tr>\n",
       "      <td>...</td>\n",
       "      <td>...</td>\n",
       "      <td>...</td>\n",
       "      <td>...</td>\n",
       "      <td>...</td>\n",
       "      <td>...</td>\n",
       "    </tr>\n",
       "    <tr>\n",
       "      <td>88</td>\n",
       "      <td>2015 (88th)</td>\n",
       "      <td>Leonardo DiCaprio</td>\n",
       "      <td>The Revenant</td>\n",
       "      <td>Best Actor</td>\n",
       "      <td>https://en.wikipedia.org/wiki/Leonardo DiCaprio</td>\n",
       "    </tr>\n",
       "    <tr>\n",
       "      <td>89</td>\n",
       "      <td>2016 (89th)</td>\n",
       "      <td>Casey Affleck</td>\n",
       "      <td>Manchester by the Sea</td>\n",
       "      <td>Best Actor</td>\n",
       "      <td>https://en.wikipedia.org/wiki/Casey Affleck</td>\n",
       "    </tr>\n",
       "    <tr>\n",
       "      <td>90</td>\n",
       "      <td>2017 (90th)</td>\n",
       "      <td>Gary Oldman</td>\n",
       "      <td>Darkest Hour</td>\n",
       "      <td>Best Actor</td>\n",
       "      <td>https://en.wikipedia.org/wiki/Gary Oldman</td>\n",
       "    </tr>\n",
       "    <tr>\n",
       "      <td>91</td>\n",
       "      <td>2018 (91st)</td>\n",
       "      <td>Rami Malek</td>\n",
       "      <td>Bohemian Rhapsody</td>\n",
       "      <td>Best Actor</td>\n",
       "      <td>https://en.wikipedia.org/wiki/Rami Malek</td>\n",
       "    </tr>\n",
       "    <tr>\n",
       "      <td>92</td>\n",
       "      <td>2019 (92nd)</td>\n",
       "      <td>Joaquin Phoenix</td>\n",
       "      <td>Joker</td>\n",
       "      <td>Best Actor</td>\n",
       "      <td>https://en.wikipedia.org/wiki/Joaquin Phoenix</td>\n",
       "    </tr>\n",
       "  </tbody>\n",
       "</table>\n",
       "<p>93 rows × 5 columns</p>\n",
       "</div>"
      ],
      "text/plain": [
       "                   Years              Winner Name  \\\n",
       "0          1927/28 (1st)        Emil Jannings [A]   \n",
       "1   1928/29(2nd)[note 1]            Warner Baxter   \n",
       "2          1929/30 (3rd)        George Arliss [B]   \n",
       "3          1930/31 (4th)         Lionel Barrymore   \n",
       "4          1931/32 (5th)  Wallace Beery (TIE) [C]   \n",
       "..                   ...                      ...   \n",
       "88           2015 (88th)        Leonardo DiCaprio   \n",
       "89           2016 (89th)            Casey Affleck   \n",
       "90           2017 (90th)              Gary Oldman   \n",
       "91           2018 (91st)               Rami Malek   \n",
       "92           2019 (92nd)          Joaquin Phoenix   \n",
       "\n",
       "                                    Film    Category  \\\n",
       "0   The Last CommandThe Way of All Flesh  Best Actor   \n",
       "1                         In Old Arizona  Best Actor   \n",
       "2                               Disraeli  Best Actor   \n",
       "3                            A Free Soul  Best Actor   \n",
       "4                              The Champ  Best Actor   \n",
       "..                                   ...         ...   \n",
       "88                          The Revenant  Best Actor   \n",
       "89                 Manchester by the Sea  Best Actor   \n",
       "90                          Darkest Hour  Best Actor   \n",
       "91                     Bohemian Rhapsody  Best Actor   \n",
       "92                                 Joker  Best Actor   \n",
       "\n",
       "                                           Wiki URL  \n",
       "0      https://en.wikipedia.org/wiki/Emil Jannings   \n",
       "1       https://en.wikipedia.org/wiki/Warner Baxter  \n",
       "2      https://en.wikipedia.org/wiki/George Arliss   \n",
       "3    https://en.wikipedia.org/wiki/Lionel Barrymore  \n",
       "4     https://en.wikipedia.org/wiki/Wallace Beery    \n",
       "..                                              ...  \n",
       "88  https://en.wikipedia.org/wiki/Leonardo DiCaprio  \n",
       "89      https://en.wikipedia.org/wiki/Casey Affleck  \n",
       "90        https://en.wikipedia.org/wiki/Gary Oldman  \n",
       "91         https://en.wikipedia.org/wiki/Rami Malek  \n",
       "92    https://en.wikipedia.org/wiki/Joaquin Phoenix  \n",
       "\n",
       "[93 rows x 5 columns]"
      ]
     },
     "execution_count": 18,
     "metadata": {},
     "output_type": "execute_result"
    }
   ],
   "source": [
    "bestactor_df\n",
    "#actor"
   ]
  },
  {
   "cell_type": "code",
   "execution_count": null,
   "metadata": {},
   "outputs": [
    {
     "name": "stdout",
     "output_type": "stream",
     "text": [
      "Oops! <class 'IndexError'> occured\n"
     ]
    }
   ],
   "source": [
    "birthplace =[]\n",
    "birthyear = []\n",
    "\n",
    "\n",
    "for url in actor_url:\n",
    "    response = requests.get(url)\n",
    "    soup = bs(response.text,'html.parser')\n",
    "    #print(soup)\n",
    "    #birthplace_result = soup.find_all(\"div\",class_=\"birthplace\")[0].text\n",
    "    #print(birthplace_result)\n",
    "    #birthplace.append(birthplace_result)\n",
    "    \n",
    "    try:\n",
    "        birthplace_result = soup.find_all(\"div\",class_=\"birthplace\")[0].text\n",
    "        birthplace.append(birthplace_result)\n",
    "        birthyear_result = soup.find_all('span', class_='bday')[0].text[:4]\n",
    "        birthyear.append(birthyear_result)\n",
    "    #except IndexError as I:\n",
    "    except:\n",
    "        #print(I)\n",
    "        print(\"Oops!\",sys.exc_info()[0],\"occured\")\n",
    "        birthplace.append(\"Unknown\")\n",
    "        birthyear.append(\"Unknown\")\n",
    "        "
   ]
  },
  {
   "cell_type": "code",
   "execution_count": null,
   "metadata": {},
   "outputs": [],
   "source": [
    "bestactor_df[\"Birthplace\"] = birthplace\n",
    "bestactor_df[\"Birth Year\"] = birthyear"
   ]
  },
  {
   "cell_type": "code",
   "execution_count": null,
   "metadata": {},
   "outputs": [],
   "source": [
    "bestactor_df"
   ]
  },
  {
   "cell_type": "code",
   "execution_count": 41,
   "metadata": {},
   "outputs": [],
   "source": [
    "#Some of the actor names have end notes listed on Wikipedia next to their name - ex. [A]\n",
    "#Some actors have tied for best actor. \n",
    "#I was able to remove the end notes from the names, but uncertain as to what to do about actors tying the award in the same year.\n",
    "#Actors who tied for the award will be listed on a different line that was not pulled.\n",
    "#Also need to remove § special charactor after some names.\n",
    "#Tried re function with no sucess. Don't think it really applies to this.\n",
    "\n",
    "#actors = pd.Series(actor).str.split(\"[\").str[0].tolist()\n"
   ]
  },
  {
   "cell_type": "code",
   "execution_count": 429,
   "metadata": {},
   "outputs": [],
   "source": [
    "#actors\n",
    "#bestactor_df = pd.DataFrame({\"Years\": years, \"Winner Name\":actor, \"Film\": film,\"Category\":\"Best Actor\"})\n",
    "#bestactor_df.head(20)"
   ]
  },
  {
   "cell_type": "code",
   "execution_count": 347,
   "metadata": {},
   "outputs": [],
   "source": [
    "#year_unique_tie"
   ]
  },
  {
   "cell_type": "code",
   "execution_count": 430,
   "metadata": {},
   "outputs": [
    {
     "data": {
      "text/plain": [
       "MongoClient(host=['localhost:27017'], document_class=dict, tz_aware=False, connect=True)"
      ]
     },
     "execution_count": 430,
     "metadata": {},
     "output_type": "execute_result"
    }
   ],
   "source": [
    "# Connection for Mongod DB server\n",
    "\n",
    "conn = \"mongodb://localhost:27017\"\n",
    "client = pymongo.MongoClient(conn)\n",
    "client"
   ]
  },
  {
   "cell_type": "code",
   "execution_count": 56,
   "metadata": {},
   "outputs": [
    {
     "data": {
      "text/plain": [
       "Database(MongoClient(host=['localhost:27017'], document_class=dict, tz_aware=False, connect=True), 'winnersdb')"
      ]
     },
     "execution_count": 56,
     "metadata": {},
     "output_type": "execute_result"
    }
   ],
   "source": [
    "# Database - \"winnersdb\" to store collection(table) of Documents(rows) and fields(columns)\n",
    "\n",
    "database = client.winnersdb\n",
    "database"
   ]
  },
  {
   "cell_type": "code",
   "execution_count": 60,
   "metadata": {},
   "outputs": [],
   "source": [
    "#winners_collection(table) is to store all winners data from Concatenated dataframe\n",
    "\n",
    "collection = database.winners_collection"
   ]
  },
  {
   "cell_type": "code",
   "execution_count": 431,
   "metadata": {},
   "outputs": [],
   "source": [
    "# Database and collection are created at this point(if they dont exist) after we insert data \n",
    "\n",
    "# inserting Dataframe to MongoDB Collection\n",
    "\n",
    "\n",
    "df_to_dict = json.loads(bestactor_df.T.to_json()).values()\n",
    "#df_to_dict"
   ]
  },
  {
   "cell_type": "code",
   "execution_count": 78,
   "metadata": {},
   "outputs": [
    {
     "data": {
      "text/plain": [
       "<pymongo.results.InsertManyResult at 0x1e7cefd92c8>"
      ]
     },
     "execution_count": 78,
     "metadata": {},
     "output_type": "execute_result"
    }
   ],
   "source": [
    "collection.insert_many(df_to_dict)"
   ]
  },
  {
   "cell_type": "code",
   "execution_count": null,
   "metadata": {},
   "outputs": [],
   "source": []
  }
 ],
 "metadata": {
  "kernelspec": {
   "display_name": "Python 3",
   "language": "python",
   "name": "python3"
  },
  "language_info": {
   "codemirror_mode": {
    "name": "ipython",
    "version": 3
   },
   "file_extension": ".py",
   "mimetype": "text/x-python",
   "name": "python",
   "nbconvert_exporter": "python",
   "pygments_lexer": "ipython3",
   "version": "3.7.3"
  }
 },
 "nbformat": 4,
 "nbformat_minor": 4
}
