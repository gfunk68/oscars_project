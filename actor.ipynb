{
 "cells": [
  {
   "cell_type": "code",
   "execution_count": 1,
   "metadata": {},
   "outputs": [],
   "source": [
    "import pandas as pd"
   ]
  },
  {
   "cell_type": "code",
   "execution_count": 2,
   "metadata": {},
   "outputs": [],
   "source": [
    "def unique(list1): \n",
    "  \n",
    "    # intilize a null list \n",
    "    unique_list = [] \n",
    "      \n",
    "    # traverse for all elements \n",
    "    for x in list1: \n",
    "        # check if exists in unique_list or not \n",
    "        if x not in unique_list: \n",
    "            unique_list.append(x) "
   ]
  },
  {
   "cell_type": "code",
   "execution_count": 3,
   "metadata": {},
   "outputs": [],
   "source": [
    "raw_df = pd.read_html(\"https://en.wikipedia.org/wiki/Academy_Award_for_Best_Actor\")[2]"
   ]
  },
  {
   "cell_type": "code",
   "execution_count": 4,
   "metadata": {},
   "outputs": [],
   "source": [
    "actor_df = raw_df[raw_df[\"Year\"]!=raw_df[\"Film\"]]"
   ]
  },
  {
   "cell_type": "code",
   "execution_count": 8,
   "metadata": {},
   "outputs": [],
   "source": [
    "list_of_years = actor_df.Year.unique()"
   ]
  },
  {
   "cell_type": "code",
   "execution_count": 10,
   "metadata": {},
   "outputs": [],
   "source": [
    "years = []\n",
    "actor=[]\n",
    "film=[]\n",
    "\n",
    "for x in list_of_years:\n",
    "    years.append(actor_df[actor_df[\"Year\"]==x].iloc[0][\"Year\"])\n",
    "    director.append(actor_df[actor_df[\"Year\"]==x].iloc[0][\"Actor\"])\n",
    "    film.append(actor_df[actor_df[\"Year\"]==x].iloc[0][\"Film\"])"
   ]
  },
  {
   "cell_type": "code",
   "execution_count": 11,
   "metadata": {},
   "outputs": [],
   "source": [
    "bestactor_df = pd.DataFrame({\"Years\": years, \"Winner Name\":director, \"Film\": film})"
   ]
  },
  {
   "cell_type": "code",
   "execution_count": 12,
   "metadata": {},
   "outputs": [
    {
     "data": {
      "text/html": [
       "<div>\n",
       "<style scoped>\n",
       "    .dataframe tbody tr th:only-of-type {\n",
       "        vertical-align: middle;\n",
       "    }\n",
       "\n",
       "    .dataframe tbody tr th {\n",
       "        vertical-align: top;\n",
       "    }\n",
       "\n",
       "    .dataframe thead th {\n",
       "        text-align: right;\n",
       "    }\n",
       "</style>\n",
       "<table border=\"1\" class=\"dataframe\">\n",
       "  <thead>\n",
       "    <tr style=\"text-align: right;\">\n",
       "      <th></th>\n",
       "      <th>Years</th>\n",
       "      <th>Winner Name</th>\n",
       "      <th>Film</th>\n",
       "    </tr>\n",
       "  </thead>\n",
       "  <tbody>\n",
       "    <tr>\n",
       "      <td>0</td>\n",
       "      <td>1927/28 (1st)</td>\n",
       "      <td>Emil Jannings [A]</td>\n",
       "      <td>The Last CommandThe Way of All Flesh</td>\n",
       "    </tr>\n",
       "    <tr>\n",
       "      <td>1</td>\n",
       "      <td>1928/29(2nd)[note 1]</td>\n",
       "      <td>Warner Baxter</td>\n",
       "      <td>In Old Arizona</td>\n",
       "    </tr>\n",
       "    <tr>\n",
       "      <td>2</td>\n",
       "      <td>1929/30 (3rd)</td>\n",
       "      <td>George Arliss [B]</td>\n",
       "      <td>Disraeli</td>\n",
       "    </tr>\n",
       "    <tr>\n",
       "      <td>3</td>\n",
       "      <td>1930/31 (4th)</td>\n",
       "      <td>Lionel Barrymore</td>\n",
       "      <td>A Free Soul</td>\n",
       "    </tr>\n",
       "    <tr>\n",
       "      <td>4</td>\n",
       "      <td>1931/32 (5th)</td>\n",
       "      <td>Wallace Beery (TIE) [C]</td>\n",
       "      <td>The Champ</td>\n",
       "    </tr>\n",
       "    <tr>\n",
       "      <td>...</td>\n",
       "      <td>...</td>\n",
       "      <td>...</td>\n",
       "      <td>...</td>\n",
       "    </tr>\n",
       "    <tr>\n",
       "      <td>87</td>\n",
       "      <td>2015 (88th)</td>\n",
       "      <td>Leonardo DiCaprio</td>\n",
       "      <td>The Revenant</td>\n",
       "    </tr>\n",
       "    <tr>\n",
       "      <td>88</td>\n",
       "      <td>2016 (89th)</td>\n",
       "      <td>Casey Affleck</td>\n",
       "      <td>Manchester by the Sea</td>\n",
       "    </tr>\n",
       "    <tr>\n",
       "      <td>89</td>\n",
       "      <td>2017 (90th)</td>\n",
       "      <td>Gary Oldman</td>\n",
       "      <td>Darkest Hour</td>\n",
       "    </tr>\n",
       "    <tr>\n",
       "      <td>90</td>\n",
       "      <td>2018 (91st)</td>\n",
       "      <td>Rami Malek</td>\n",
       "      <td>Bohemian Rhapsody</td>\n",
       "    </tr>\n",
       "    <tr>\n",
       "      <td>91</td>\n",
       "      <td>2019 (92nd)</td>\n",
       "      <td>Joaquin Phoenix</td>\n",
       "      <td>Joker</td>\n",
       "    </tr>\n",
       "  </tbody>\n",
       "</table>\n",
       "<p>92 rows × 3 columns</p>\n",
       "</div>"
      ],
      "text/plain": [
       "                   Years              Winner Name  \\\n",
       "0          1927/28 (1st)        Emil Jannings [A]   \n",
       "1   1928/29(2nd)[note 1]            Warner Baxter   \n",
       "2          1929/30 (3rd)        George Arliss [B]   \n",
       "3          1930/31 (4th)         Lionel Barrymore   \n",
       "4          1931/32 (5th)  Wallace Beery (TIE) [C]   \n",
       "..                   ...                      ...   \n",
       "87           2015 (88th)        Leonardo DiCaprio   \n",
       "88           2016 (89th)            Casey Affleck   \n",
       "89           2017 (90th)              Gary Oldman   \n",
       "90           2018 (91st)               Rami Malek   \n",
       "91           2019 (92nd)          Joaquin Phoenix   \n",
       "\n",
       "                                    Film  \n",
       "0   The Last CommandThe Way of All Flesh  \n",
       "1                         In Old Arizona  \n",
       "2                               Disraeli  \n",
       "3                            A Free Soul  \n",
       "4                              The Champ  \n",
       "..                                   ...  \n",
       "87                          The Revenant  \n",
       "88                 Manchester by the Sea  \n",
       "89                          Darkest Hour  \n",
       "90                     Bohemian Rhapsody  \n",
       "91                                 Joker  \n",
       "\n",
       "[92 rows x 3 columns]"
      ]
     },
     "execution_count": 12,
     "metadata": {},
     "output_type": "execute_result"
    }
   ],
   "source": [
    "bestactor_df"
   ]
  },
  {
   "cell_type": "code",
   "execution_count": 154,
   "metadata": {},
   "outputs": [
    {
     "ename": "AttributeError",
     "evalue": "'list' object has no attribute 'split'",
     "output_type": "error",
     "traceback": [
      "\u001b[1;31m---------------------------------------------------------------------------\u001b[0m",
      "\u001b[1;31mAttributeError\u001b[0m                            Traceback (most recent call last)",
      "\u001b[1;32m<ipython-input-154-df5e616ddb6e>\u001b[0m in \u001b[0;36m<module>\u001b[1;34m\u001b[0m\n\u001b[1;32m----> 1\u001b[1;33m \u001b[0mdirector\u001b[0m\u001b[1;33m.\u001b[0m\u001b[0msplit\u001b[0m\u001b[1;33m(\u001b[0m\u001b[1;34m\"&\"\u001b[0m\u001b[1;33m)\u001b[0m\u001b[1;33m\u001b[0m\u001b[1;33m\u001b[0m\u001b[0m\n\u001b[0m",
      "\u001b[1;31mAttributeError\u001b[0m: 'list' object has no attribute 'split'"
     ]
    }
   ],
   "source": [
    "director.split(\"&\")"
   ]
  },
  {
   "cell_type": "code",
   "execution_count": 156,
   "metadata": {},
   "outputs": [],
   "source": [
    "directors = []\n",
    "\n",
    "for i in director:\n",
    "    directors.append(i.split(\"&\"))\n",
    "    "
   ]
  },
  {
   "cell_type": "code",
   "execution_count": 157,
   "metadata": {},
   "outputs": [
    {
     "data": {
      "text/plain": [
       "[['Frank Borzage (Dramatic Picture)'],\n",
       " ['Frank Lloyd'],\n",
       " ['Lewis Milestone'],\n",
       " ['Norman Taurog'],\n",
       " ['Frank Borzage'],\n",
       " ['Frank Lloyd'],\n",
       " ['Frank Capra'],\n",
       " ['John Ford'],\n",
       " ['Frank Capra'],\n",
       " ['Leo McCarey'],\n",
       " ['Frank Capra'],\n",
       " ['Victor Fleming'],\n",
       " ['John Ford'],\n",
       " ['John Ford'],\n",
       " ['William Wyler'],\n",
       " ['Michael Curtiz'],\n",
       " ['Leo McCarey'],\n",
       " ['Billy Wilder'],\n",
       " ['William Wyler'],\n",
       " ['Elia Kazan'],\n",
       " ['John Huston'],\n",
       " ['Joseph L. Mankiewicz'],\n",
       " ['Joseph L. Mankiewicz'],\n",
       " ['George Stevens'],\n",
       " ['John Ford'],\n",
       " ['Fred Zinnemann'],\n",
       " ['Elia Kazan'],\n",
       " ['Delbert Mann'],\n",
       " ['George Stevens'],\n",
       " ['David Lean'],\n",
       " ['Vincente Minnelli'],\n",
       " ['William Wyler'],\n",
       " ['Billy Wilder'],\n",
       " ['Robert Wise ', ' Jerome Robbins'],\n",
       " ['David Lean'],\n",
       " ['Tony Richardson'],\n",
       " ['George Cukor'],\n",
       " ['Robert Wise'],\n",
       " ['Fred Zinnemann'],\n",
       " ['Mike Nichols'],\n",
       " ['Carol Reed'],\n",
       " ['John Schlesinger'],\n",
       " ['Franklin J. Schaffner'],\n",
       " ['William Friedkin'],\n",
       " ['Bob Fosse'],\n",
       " ['George Roy Hill'],\n",
       " ['Francis Ford Coppola'],\n",
       " ['Miloš Forman'],\n",
       " ['John G. Avildsen'],\n",
       " ['Woody Allen'],\n",
       " ['Michael Cimino'],\n",
       " ['Robert Benton'],\n",
       " ['Robert Redford'],\n",
       " ['Warren Beatty'],\n",
       " ['Richard Attenborough'],\n",
       " ['James L. Brooks'],\n",
       " ['Miloš Forman'],\n",
       " ['Sydney Pollack'],\n",
       " ['Oliver Stone'],\n",
       " ['Bernardo Bertolucci'],\n",
       " ['Barry Levinson'],\n",
       " ['Oliver Stone'],\n",
       " ['Kevin Costner'],\n",
       " ['Jonathan Demme'],\n",
       " ['Clint Eastwood'],\n",
       " ['Steven Spielberg'],\n",
       " ['Robert Zemeckis'],\n",
       " ['Mel Gibson'],\n",
       " ['Anthony Minghella'],\n",
       " ['James Cameron'],\n",
       " ['Steven Spielberg'],\n",
       " ['Sam Mendes'],\n",
       " ['Steven Soderbergh'],\n",
       " ['Ron Howard'],\n",
       " ['Roman Polanski'],\n",
       " ['Peter Jackson'],\n",
       " ['Clint Eastwood'],\n",
       " ['Ang Lee'],\n",
       " ['Martin Scorsese'],\n",
       " ['Coen Brothers'],\n",
       " ['Danny Boyle'],\n",
       " ['Kathryn Bigelow'],\n",
       " ['Tom Hooper'],\n",
       " ['Michel Hazanavicius'],\n",
       " ['Ang Lee'],\n",
       " ['Alfonso Cuarón'],\n",
       " ['Alejandro G. Iñárritu'],\n",
       " ['Alejandro G. Iñárritu'],\n",
       " ['Damien Chazelle'],\n",
       " ['Guillermo del Toro'],\n",
       " ['Alfonso Cuarón'],\n",
       " ['Bong Joon-ho']]"
      ]
     },
     "execution_count": 157,
     "metadata": {},
     "output_type": "execute_result"
    }
   ],
   "source": [
    "directors"
   ]
  },
  {
   "cell_type": "code",
   "execution_count": null,
   "metadata": {},
   "outputs": [],
   "source": []
  }
 ],
 "metadata": {
  "kernelspec": {
   "display_name": "Python 3",
   "language": "python",
   "name": "python3"
  },
  "language_info": {
   "codemirror_mode": {
    "name": "ipython",
    "version": 3
   },
   "file_extension": ".py",
   "mimetype": "text/x-python",
   "name": "python",
   "nbconvert_exporter": "python",
   "pygments_lexer": "ipython3",
   "version": "3.7.4"
  }
 },
 "nbformat": 4,
 "nbformat_minor": 4
}
