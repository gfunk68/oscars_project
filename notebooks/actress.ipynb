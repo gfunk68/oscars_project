{
 "cells": [
  {
   "cell_type": "code",
   "execution_count": 1,
   "metadata": {},
   "outputs": [],
   "source": [
    "#Import dependencies\n",
    "import pandas as pd\n",
    "import re\n",
    "\n",
    "# Dependencies for MongoDB\n",
    "import pymongo\n",
    "from pprint import pprint  # For json output easy to read\n",
    "\n",
    "# Dependency to convert dataframe to json format for MongoDB\n",
    "import json\n",
    "\n",
    "import requests\n",
    "import os\n",
    "\n",
    "import sys\n",
    "\n",
    "from bs4 import BeautifulSoup as bs"
   ]
  },
  {
   "cell_type": "code",
   "execution_count": 2,
   "metadata": {},
   "outputs": [
    {
     "data": {
      "text/plain": [
       "'https://en.wikipedia.org/wiki/Academy_Award_for_Best_Actress'"
      ]
     },
     "execution_count": 2,
     "metadata": {},
     "output_type": "execute_result"
    }
   ],
   "source": [
    "url = \"https://en.wikipedia.org/wiki/Academy_Award_for_Best_Actress\"\n",
    "url"
   ]
  },
  {
   "cell_type": "code",
   "execution_count": 3,
   "metadata": {},
   "outputs": [
    {
     "data": {
      "text/plain": [
       "<Response [200]>"
      ]
     },
     "execution_count": 3,
     "metadata": {},
     "output_type": "execute_result"
    }
   ],
   "source": [
    "res = requests.get(url)\n",
    "res"
   ]
  },
  {
   "cell_type": "code",
   "execution_count": 4,
   "metadata": {},
   "outputs": [],
   "source": [
    "soup = bs(res.text,'html.parser')\n",
    "#soup"
   ]
  },
  {
   "cell_type": "code",
   "execution_count": 5,
   "metadata": {},
   "outputs": [],
   "source": [
    "table = soup.find(class_= \"wikitable sortable\").find(\"tbody\")\n",
    "#table"
   ]
  },
  {
   "cell_type": "code",
   "execution_count": 6,
   "metadata": {},
   "outputs": [],
   "source": [
    "year_data = table.find_all(scope = \"row\")\n",
    "#year_data "
   ]
  },
  {
   "cell_type": "code",
   "execution_count": 7,
   "metadata": {},
   "outputs": [
    {
     "data": {
      "text/plain": [
       "279"
      ]
     },
     "execution_count": 7,
     "metadata": {},
     "output_type": "execute_result"
    }
   ],
   "source": [
    "back_ground_yellow = table.find_all(style=\"background:#FAEB86;\")\n",
    "len(back_ground_yellow)"
   ]
  },
  {
   "cell_type": "code",
   "execution_count": 8,
   "metadata": {},
   "outputs": [],
   "source": [
    "actress_list =[]\n",
    "films_list = []\n",
    "years_list = []\n",
    "tie_index = []\n",
    "\n",
    "for i in (range(len(year_data))):\n",
    "    years_list.append(year_data[i].text.strip())  # total number of unique years are added to years_list\n",
    "\n",
    "for i in (range(len(back_ground_yellow))):\n",
    "    #print(i)\n",
    "    if (i%3 == 0): # All first column elemnets in the table(actor names) are added to actors_list\n",
    "        \n",
    "        actor = back_ground_yellow[i].find_all(\"b\")[0].find(\"span\").find(\"a\").text\n",
    "        actress_list.append(actor)\n",
    "     \n",
    "        ind = int(i/3) # to get indexes for \"year data\" [0-92] so far\n",
    "        # print(ind)\n",
    "        \n",
    "        if(back_ground_yellow[i].find(\"small\")):  # if \"Tie-up\" winners are found, add indexes to \"tie_index\"\n",
    "            #print(ind)\n",
    "            #print(\"d\")\n",
    "            tie_index.append(ind)  \n",
    "            if (len(tie_index)==2):  # Assuming 2 \"Tie-up\" winners in a year\n",
    "                if (tie_index[-1]-1) == tie_index[-2]: # checking for last index and second last index\n",
    "                    years_list.insert(tie_index[-1],years_list[tie_index[-2]])  #insert the \"Year\" value for the second \"Tie-up\" winner\n",
    "                    tie_index.clear()  # Clear the list for the next scenario of 2 \"Tie-up\" winners \n",
    "                     \n",
    "\n",
    "    if (i%3 == 2): # All third column elemnets in the table(Film names) are added to films_list\n",
    "        \n",
    "        films_list.append(back_ground_yellow[i].find(\"b\").text)\n",
    " "
   ]
  },
  {
   "cell_type": "code",
   "execution_count": 9,
   "metadata": {},
   "outputs": [
    {
     "data": {
      "text/plain": [
       "93"
      ]
     },
     "execution_count": 9,
     "metadata": {},
     "output_type": "execute_result"
    }
   ],
   "source": [
    "len(actress_list)"
   ]
  },
  {
   "cell_type": "code",
   "execution_count": 10,
   "metadata": {},
   "outputs": [
    {
     "data": {
      "text/plain": [
       "93"
      ]
     },
     "execution_count": 10,
     "metadata": {},
     "output_type": "execute_result"
    }
   ],
   "source": [
    "len(films_list)"
   ]
  },
  {
   "cell_type": "code",
   "execution_count": 11,
   "metadata": {},
   "outputs": [
    {
     "data": {
      "text/plain": [
       "93"
      ]
     },
     "execution_count": 11,
     "metadata": {},
     "output_type": "execute_result"
    }
   ],
   "source": [
    "len(years_list)"
   ]
  },
  {
   "cell_type": "code",
   "execution_count": 12,
   "metadata": {},
   "outputs": [],
   "source": [
    "bestactress_df = pd.DataFrame({\"Years\": years_list, \"Winner Name\":actress_list, \"Film\": films_list,\"Category\":\"BestActress\"})  \n",
    "#bestactress_df.head(10)"
   ]
  },
  {
   "cell_type": "code",
   "execution_count": 13,
   "metadata": {},
   "outputs": [],
   "source": [
    "actress_url = []\n",
    "for i in actress_list:\n",
    "    #print(i)\n",
    "    actress_url.append((f\"https://en.wikipedia.org/wiki/{i}\"))"
   ]
  },
  {
   "cell_type": "code",
   "execution_count": 14,
   "metadata": {},
   "outputs": [
    {
     "data": {
      "text/plain": [
       "93"
      ]
     },
     "execution_count": 14,
     "metadata": {},
     "output_type": "execute_result"
    }
   ],
   "source": [
    "len(actress_url)"
   ]
  },
  {
   "cell_type": "code",
   "execution_count": 16,
   "metadata": {},
   "outputs": [
    {
     "data": {
      "text/html": [
       "<div>\n",
       "<style scoped>\n",
       "    .dataframe tbody tr th:only-of-type {\n",
       "        vertical-align: middle;\n",
       "    }\n",
       "\n",
       "    .dataframe tbody tr th {\n",
       "        vertical-align: top;\n",
       "    }\n",
       "\n",
       "    .dataframe thead th {\n",
       "        text-align: right;\n",
       "    }\n",
       "</style>\n",
       "<table border=\"1\" class=\"dataframe\">\n",
       "  <thead>\n",
       "    <tr style=\"text-align: right;\">\n",
       "      <th></th>\n",
       "      <th>Years</th>\n",
       "      <th>Winner Name</th>\n",
       "      <th>Film</th>\n",
       "      <th>Category</th>\n",
       "      <th>Wiki URL</th>\n",
       "    </tr>\n",
       "  </thead>\n",
       "  <tbody>\n",
       "    <tr>\n",
       "      <td>0</td>\n",
       "      <td>1927/28 (1st)</td>\n",
       "      <td>Janet Gaynor</td>\n",
       "      <td>7th HeavenStreet AngelSunrise: A Song of Two H...</td>\n",
       "      <td>BestActress</td>\n",
       "      <td>https://en.wikipedia.org/wiki/Janet Gaynor</td>\n",
       "    </tr>\n",
       "    <tr>\n",
       "      <td>1</td>\n",
       "      <td>1928/29(2nd)[note 1]</td>\n",
       "      <td>Mary Pickford</td>\n",
       "      <td>Coquette</td>\n",
       "      <td>BestActress</td>\n",
       "      <td>https://en.wikipedia.org/wiki/Mary Pickford</td>\n",
       "    </tr>\n",
       "    <tr>\n",
       "      <td>2</td>\n",
       "      <td>1929/30 (3rd)</td>\n",
       "      <td>Norma Shearer</td>\n",
       "      <td>The Divorcee</td>\n",
       "      <td>BestActress</td>\n",
       "      <td>https://en.wikipedia.org/wiki/Norma Shearer</td>\n",
       "    </tr>\n",
       "    <tr>\n",
       "      <td>3</td>\n",
       "      <td>1930/31 (4th)</td>\n",
       "      <td>Marie Dressler</td>\n",
       "      <td>Min and Bill</td>\n",
       "      <td>BestActress</td>\n",
       "      <td>https://en.wikipedia.org/wiki/Marie Dressler</td>\n",
       "    </tr>\n",
       "    <tr>\n",
       "      <td>4</td>\n",
       "      <td>1931/32 (5th)</td>\n",
       "      <td>Helen Hayes</td>\n",
       "      <td>The Sin of Madelon Claudet</td>\n",
       "      <td>BestActress</td>\n",
       "      <td>https://en.wikipedia.org/wiki/Helen Hayes</td>\n",
       "    </tr>\n",
       "    <tr>\n",
       "      <td>5</td>\n",
       "      <td>1932/33 (6th)</td>\n",
       "      <td>Katharine Hepburn</td>\n",
       "      <td>Morning Glory</td>\n",
       "      <td>BestActress</td>\n",
       "      <td>https://en.wikipedia.org/wiki/Katharine Hepburn</td>\n",
       "    </tr>\n",
       "    <tr>\n",
       "      <td>6</td>\n",
       "      <td>1934 (7th)</td>\n",
       "      <td>Claudette Colbert</td>\n",
       "      <td>It Happened One Night</td>\n",
       "      <td>BestActress</td>\n",
       "      <td>https://en.wikipedia.org/wiki/Claudette Colbert</td>\n",
       "    </tr>\n",
       "    <tr>\n",
       "      <td>7</td>\n",
       "      <td>1935 (8th)</td>\n",
       "      <td>Bette Davis</td>\n",
       "      <td>Dangerous</td>\n",
       "      <td>BestActress</td>\n",
       "      <td>https://en.wikipedia.org/wiki/Bette Davis</td>\n",
       "    </tr>\n",
       "    <tr>\n",
       "      <td>8</td>\n",
       "      <td>1936 (9th)</td>\n",
       "      <td>Luise Rainer</td>\n",
       "      <td>The Great Ziegfeld</td>\n",
       "      <td>BestActress</td>\n",
       "      <td>https://en.wikipedia.org/wiki/Luise Rainer</td>\n",
       "    </tr>\n",
       "    <tr>\n",
       "      <td>9</td>\n",
       "      <td>1937 (10th)</td>\n",
       "      <td>Luise Rainer</td>\n",
       "      <td>The Good Earth</td>\n",
       "      <td>BestActress</td>\n",
       "      <td>https://en.wikipedia.org/wiki/Luise Rainer</td>\n",
       "    </tr>\n",
       "  </tbody>\n",
       "</table>\n",
       "</div>"
      ],
      "text/plain": [
       "                  Years        Winner Name  \\\n",
       "0         1927/28 (1st)       Janet Gaynor   \n",
       "1  1928/29(2nd)[note 1]      Mary Pickford   \n",
       "2         1929/30 (3rd)      Norma Shearer   \n",
       "3         1930/31 (4th)     Marie Dressler   \n",
       "4         1931/32 (5th)        Helen Hayes   \n",
       "5         1932/33 (6th)  Katharine Hepburn   \n",
       "6            1934 (7th)  Claudette Colbert   \n",
       "7            1935 (8th)        Bette Davis   \n",
       "8            1936 (9th)       Luise Rainer   \n",
       "9           1937 (10th)       Luise Rainer   \n",
       "\n",
       "                                                Film     Category  \\\n",
       "0  7th HeavenStreet AngelSunrise: A Song of Two H...  BestActress   \n",
       "1                                           Coquette  BestActress   \n",
       "2                                       The Divorcee  BestActress   \n",
       "3                                       Min and Bill  BestActress   \n",
       "4                         The Sin of Madelon Claudet  BestActress   \n",
       "5                                      Morning Glory  BestActress   \n",
       "6                              It Happened One Night  BestActress   \n",
       "7                                          Dangerous  BestActress   \n",
       "8                                 The Great Ziegfeld  BestActress   \n",
       "9                                     The Good Earth  BestActress   \n",
       "\n",
       "                                          Wiki URL  \n",
       "0       https://en.wikipedia.org/wiki/Janet Gaynor  \n",
       "1      https://en.wikipedia.org/wiki/Mary Pickford  \n",
       "2      https://en.wikipedia.org/wiki/Norma Shearer  \n",
       "3     https://en.wikipedia.org/wiki/Marie Dressler  \n",
       "4        https://en.wikipedia.org/wiki/Helen Hayes  \n",
       "5  https://en.wikipedia.org/wiki/Katharine Hepburn  \n",
       "6  https://en.wikipedia.org/wiki/Claudette Colbert  \n",
       "7        https://en.wikipedia.org/wiki/Bette Davis  \n",
       "8       https://en.wikipedia.org/wiki/Luise Rainer  \n",
       "9       https://en.wikipedia.org/wiki/Luise Rainer  "
      ]
     },
     "execution_count": 16,
     "metadata": {},
     "output_type": "execute_result"
    }
   ],
   "source": [
    "bestactress_df[\"Wiki URL\"] = actress_url\n",
    "bestactress_df.head(10)"
   ]
  },
  {
   "cell_type": "code",
   "execution_count": 17,
   "metadata": {},
   "outputs": [
    {
     "name": "stdout",
     "output_type": "stream",
     "text": [
      "Oops! <class 'IndexError'> occured\n",
      "Oops! <class 'IndexError'> occured\n",
      "Oops! <class 'IndexError'> occured\n",
      "Oops! <class 'IndexError'> occured\n"
     ]
    }
   ],
   "source": [
    "birthplace =[]\n",
    "birthyear = []\n",
    "succ = 0\n",
    "fail = 0\n",
    "\n",
    "for url in actress_url:\n",
    "    response = requests.get(url)\n",
    "    soup = bs(response.text,'html.parser')\n",
    " \n",
    "    try:\n",
    "        birthplace_result = soup.find_all('div', class_='birthplace')[0].text\n",
    "        birthplace.append(birthplace_result)\n",
    "    except: \n",
    "        print(\"Oops!\",sys.exc_info()[0],\"occured\")\n",
    "        birthplace.append('Unknown')\n",
    "    try:\n",
    "        birthyear_result = soup.find_all('span', class_='bday')[0].text[:4]\n",
    "        birthyear.append(birthyear_result)\n",
    "    except:\n",
    "        print(\"Oops!\",sys.exc_info()[0],\"occured\")\n",
    "        birthyear.append('Unknown')\n",
    "       \n",
    "        "
   ]
  },
  {
   "cell_type": "code",
   "execution_count": 20,
   "metadata": {},
   "outputs": [],
   "source": [
    "bestactress_df[\"Birthplace\"] = birthplace\n",
    "bestactress_df[\"Birth Year\"] = birthyear"
   ]
  },
  {
   "cell_type": "code",
   "execution_count": 23,
   "metadata": {},
   "outputs": [
    {
     "data": {
      "text/html": [
       "<div>\n",
       "<style scoped>\n",
       "    .dataframe tbody tr th:only-of-type {\n",
       "        vertical-align: middle;\n",
       "    }\n",
       "\n",
       "    .dataframe tbody tr th {\n",
       "        vertical-align: top;\n",
       "    }\n",
       "\n",
       "    .dataframe thead th {\n",
       "        text-align: right;\n",
       "    }\n",
       "</style>\n",
       "<table border=\"1\" class=\"dataframe\">\n",
       "  <thead>\n",
       "    <tr style=\"text-align: right;\">\n",
       "      <th></th>\n",
       "      <th>Years</th>\n",
       "      <th>Winner Name</th>\n",
       "      <th>Film</th>\n",
       "      <th>Category</th>\n",
       "      <th>Wiki URL</th>\n",
       "      <th>Birthplace</th>\n",
       "      <th>Birth Year</th>\n",
       "    </tr>\n",
       "  </thead>\n",
       "  <tbody>\n",
       "    <tr>\n",
       "      <td>0</td>\n",
       "      <td>1927/28 (1st)</td>\n",
       "      <td>Janet Gaynor</td>\n",
       "      <td>7th HeavenStreet AngelSunrise: A Song of Two H...</td>\n",
       "      <td>BestActress</td>\n",
       "      <td>https://en.wikipedia.org/wiki/Janet Gaynor</td>\n",
       "      <td>Germantown, Pennsylvania, U.S.</td>\n",
       "      <td>1906</td>\n",
       "    </tr>\n",
       "    <tr>\n",
       "      <td>1</td>\n",
       "      <td>1928/29(2nd)[note 1]</td>\n",
       "      <td>Mary Pickford</td>\n",
       "      <td>Coquette</td>\n",
       "      <td>BestActress</td>\n",
       "      <td>https://en.wikipedia.org/wiki/Mary Pickford</td>\n",
       "      <td>Toronto, Ontario, Canada</td>\n",
       "      <td>1892</td>\n",
       "    </tr>\n",
       "    <tr>\n",
       "      <td>2</td>\n",
       "      <td>1929/30 (3rd)</td>\n",
       "      <td>Norma Shearer</td>\n",
       "      <td>The Divorcee</td>\n",
       "      <td>BestActress</td>\n",
       "      <td>https://en.wikipedia.org/wiki/Norma Shearer</td>\n",
       "      <td>Montreal, Quebec, Canada</td>\n",
       "      <td>1902</td>\n",
       "    </tr>\n",
       "    <tr>\n",
       "      <td>3</td>\n",
       "      <td>1930/31 (4th)</td>\n",
       "      <td>Marie Dressler</td>\n",
       "      <td>Min and Bill</td>\n",
       "      <td>BestActress</td>\n",
       "      <td>https://en.wikipedia.org/wiki/Marie Dressler</td>\n",
       "      <td>Cobourg, Ontario, Canada</td>\n",
       "      <td>1868</td>\n",
       "    </tr>\n",
       "    <tr>\n",
       "      <td>4</td>\n",
       "      <td>1931/32 (5th)</td>\n",
       "      <td>Helen Hayes</td>\n",
       "      <td>The Sin of Madelon Claudet</td>\n",
       "      <td>BestActress</td>\n",
       "      <td>https://en.wikipedia.org/wiki/Helen Hayes</td>\n",
       "      <td>Washington, D.C., U.S.</td>\n",
       "      <td>1900</td>\n",
       "    </tr>\n",
       "    <tr>\n",
       "      <td>5</td>\n",
       "      <td>1932/33 (6th)</td>\n",
       "      <td>Katharine Hepburn</td>\n",
       "      <td>Morning Glory</td>\n",
       "      <td>BestActress</td>\n",
       "      <td>https://en.wikipedia.org/wiki/Katharine Hepburn</td>\n",
       "      <td>Hartford, Connecticut, U.S.</td>\n",
       "      <td>1907</td>\n",
       "    </tr>\n",
       "    <tr>\n",
       "      <td>6</td>\n",
       "      <td>1934 (7th)</td>\n",
       "      <td>Claudette Colbert</td>\n",
       "      <td>It Happened One Night</td>\n",
       "      <td>BestActress</td>\n",
       "      <td>https://en.wikipedia.org/wiki/Claudette Colbert</td>\n",
       "      <td>Saint-Mandé, France</td>\n",
       "      <td>1903</td>\n",
       "    </tr>\n",
       "    <tr>\n",
       "      <td>7</td>\n",
       "      <td>1935 (8th)</td>\n",
       "      <td>Bette Davis</td>\n",
       "      <td>Dangerous</td>\n",
       "      <td>BestActress</td>\n",
       "      <td>https://en.wikipedia.org/wiki/Bette Davis</td>\n",
       "      <td>Lowell, Massachusetts, U.S.</td>\n",
       "      <td>1908</td>\n",
       "    </tr>\n",
       "    <tr>\n",
       "      <td>8</td>\n",
       "      <td>1936 (9th)</td>\n",
       "      <td>Luise Rainer</td>\n",
       "      <td>The Great Ziegfeld</td>\n",
       "      <td>BestActress</td>\n",
       "      <td>https://en.wikipedia.org/wiki/Luise Rainer</td>\n",
       "      <td>Düsseldorf, Prussia, German Empire</td>\n",
       "      <td>1910</td>\n",
       "    </tr>\n",
       "    <tr>\n",
       "      <td>9</td>\n",
       "      <td>1937 (10th)</td>\n",
       "      <td>Luise Rainer</td>\n",
       "      <td>The Good Earth</td>\n",
       "      <td>BestActress</td>\n",
       "      <td>https://en.wikipedia.org/wiki/Luise Rainer</td>\n",
       "      <td>Düsseldorf, Prussia, German Empire</td>\n",
       "      <td>1910</td>\n",
       "    </tr>\n",
       "  </tbody>\n",
       "</table>\n",
       "</div>"
      ],
      "text/plain": [
       "                  Years        Winner Name  \\\n",
       "0         1927/28 (1st)       Janet Gaynor   \n",
       "1  1928/29(2nd)[note 1]      Mary Pickford   \n",
       "2         1929/30 (3rd)      Norma Shearer   \n",
       "3         1930/31 (4th)     Marie Dressler   \n",
       "4         1931/32 (5th)        Helen Hayes   \n",
       "5         1932/33 (6th)  Katharine Hepburn   \n",
       "6            1934 (7th)  Claudette Colbert   \n",
       "7            1935 (8th)        Bette Davis   \n",
       "8            1936 (9th)       Luise Rainer   \n",
       "9           1937 (10th)       Luise Rainer   \n",
       "\n",
       "                                                Film     Category  \\\n",
       "0  7th HeavenStreet AngelSunrise: A Song of Two H...  BestActress   \n",
       "1                                           Coquette  BestActress   \n",
       "2                                       The Divorcee  BestActress   \n",
       "3                                       Min and Bill  BestActress   \n",
       "4                         The Sin of Madelon Claudet  BestActress   \n",
       "5                                      Morning Glory  BestActress   \n",
       "6                              It Happened One Night  BestActress   \n",
       "7                                          Dangerous  BestActress   \n",
       "8                                 The Great Ziegfeld  BestActress   \n",
       "9                                     The Good Earth  BestActress   \n",
       "\n",
       "                                          Wiki URL  \\\n",
       "0       https://en.wikipedia.org/wiki/Janet Gaynor   \n",
       "1      https://en.wikipedia.org/wiki/Mary Pickford   \n",
       "2      https://en.wikipedia.org/wiki/Norma Shearer   \n",
       "3     https://en.wikipedia.org/wiki/Marie Dressler   \n",
       "4        https://en.wikipedia.org/wiki/Helen Hayes   \n",
       "5  https://en.wikipedia.org/wiki/Katharine Hepburn   \n",
       "6  https://en.wikipedia.org/wiki/Claudette Colbert   \n",
       "7        https://en.wikipedia.org/wiki/Bette Davis   \n",
       "8       https://en.wikipedia.org/wiki/Luise Rainer   \n",
       "9       https://en.wikipedia.org/wiki/Luise Rainer   \n",
       "\n",
       "                           Birthplace Birth Year  \n",
       "0      Germantown, Pennsylvania, U.S.       1906  \n",
       "1            Toronto, Ontario, Canada       1892  \n",
       "2            Montreal, Quebec, Canada       1902  \n",
       "3            Cobourg, Ontario, Canada       1868  \n",
       "4              Washington, D.C., U.S.       1900  \n",
       "5         Hartford, Connecticut, U.S.       1907  \n",
       "6                 Saint-Mandé, France       1903  \n",
       "7         Lowell, Massachusetts, U.S.       1908  \n",
       "8  Düsseldorf, Prussia, German Empire       1910  \n",
       "9  Düsseldorf, Prussia, German Empire       1910  "
      ]
     },
     "execution_count": 23,
     "metadata": {},
     "output_type": "execute_result"
    }
   ],
   "source": [
    "bestactress_df.head(10)"
   ]
  },
  {
   "cell_type": "code",
   "execution_count": 19,
   "metadata": {},
   "outputs": [
    {
     "data": {
      "text/plain": [
       "93"
      ]
     },
     "execution_count": 19,
     "metadata": {},
     "output_type": "execute_result"
    }
   ],
   "source": [
    "len(birthplace)"
   ]
  },
  {
   "cell_type": "code",
   "execution_count": 69,
   "metadata": {},
   "outputs": [
    {
     "data": {
      "text/plain": [
       "93"
      ]
     },
     "execution_count": 69,
     "metadata": {},
     "output_type": "execute_result"
    }
   ],
   "source": [
    "len(birthyear)"
   ]
  },
  {
   "cell_type": "code",
   "execution_count": 82,
   "metadata": {},
   "outputs": [],
   "source": [
    "#Import raw data from webpage\n",
    "raw_df = pd.read_html(\"https://en.wikipedia.org/wiki/Academy_Award_for_Best_Actress\")[2]"
   ]
  },
  {
   "cell_type": "code",
   "execution_count": 83,
   "metadata": {},
   "outputs": [],
   "source": [
    "#Create List of unique oscar years\n",
    "list_of_years = raw_df.Year.unique()"
   ]
  },
  {
   "cell_type": "code",
   "execution_count": 84,
   "metadata": {},
   "outputs": [],
   "source": [
    "#Loop through the data to select only the Best Actress winners in each year. \n",
    "#Best actress is always listed first in each Oscar year amongst the nominees.\n",
    "years = []\n",
    "actress=[]\n",
    "film=[]\n",
    "\n",
    "for x in list_of_years:\n",
    "    years.append(raw_df[raw_df[\"Year\"]==x].iloc[0][\"Year\"])\n",
    "    actress.append(raw_df[raw_df[\"Year\"]==x].iloc[0][\"Actress\"])\n",
    "    film.append(raw_df[raw_df[\"Year\"]==x].iloc[0][\"Film\"])"
   ]
  },
  {
   "cell_type": "code",
   "execution_count": 85,
   "metadata": {},
   "outputs": [],
   "source": [
    "bestactress_df = pd.DataFrame({\"Years\": years, \"Winner Name\":actress, \"Film\": film,\"Category\":\"BestActress\"})"
   ]
  },
  {
   "cell_type": "code",
   "execution_count": 87,
   "metadata": {},
   "outputs": [
    {
     "data": {
      "text/html": [
       "<div>\n",
       "<style scoped>\n",
       "    .dataframe tbody tr th:only-of-type {\n",
       "        vertical-align: middle;\n",
       "    }\n",
       "\n",
       "    .dataframe tbody tr th {\n",
       "        vertical-align: top;\n",
       "    }\n",
       "\n",
       "    .dataframe thead th {\n",
       "        text-align: right;\n",
       "    }\n",
       "</style>\n",
       "<table border=\"1\" class=\"dataframe\">\n",
       "  <thead>\n",
       "    <tr style=\"text-align: right;\">\n",
       "      <th></th>\n",
       "      <th>Years</th>\n",
       "      <th>Winner Name</th>\n",
       "      <th>Film</th>\n",
       "      <th>Category</th>\n",
       "    </tr>\n",
       "  </thead>\n",
       "  <tbody>\n",
       "    <tr>\n",
       "      <td>0</td>\n",
       "      <td>1927/28 (1st)</td>\n",
       "      <td>Janet Gaynor</td>\n",
       "      <td>7th HeavenStreet AngelSunrise: A Song of Two H...</td>\n",
       "      <td>BestActress</td>\n",
       "    </tr>\n",
       "    <tr>\n",
       "      <td>1</td>\n",
       "      <td>1928/29(2nd)[note 1]</td>\n",
       "      <td>Mary Pickford</td>\n",
       "      <td>Coquette</td>\n",
       "      <td>BestActress</td>\n",
       "    </tr>\n",
       "    <tr>\n",
       "      <td>2</td>\n",
       "      <td>1929/30 (3rd)</td>\n",
       "      <td>Norma Shearer [A]</td>\n",
       "      <td>The Divorcee</td>\n",
       "      <td>BestActress</td>\n",
       "    </tr>\n",
       "    <tr>\n",
       "      <td>3</td>\n",
       "      <td>1930/31 (4th)</td>\n",
       "      <td>Marie Dressler</td>\n",
       "      <td>Min and Bill</td>\n",
       "      <td>BestActress</td>\n",
       "    </tr>\n",
       "    <tr>\n",
       "      <td>4</td>\n",
       "      <td>1931/32 (5th)</td>\n",
       "      <td>Helen Hayes</td>\n",
       "      <td>The Sin of Madelon Claudet</td>\n",
       "      <td>BestActress</td>\n",
       "    </tr>\n",
       "    <tr>\n",
       "      <td>...</td>\n",
       "      <td>...</td>\n",
       "      <td>...</td>\n",
       "      <td>...</td>\n",
       "      <td>...</td>\n",
       "    </tr>\n",
       "    <tr>\n",
       "      <td>87</td>\n",
       "      <td>2015 (88th)</td>\n",
       "      <td>Brie Larson</td>\n",
       "      <td>Room</td>\n",
       "      <td>BestActress</td>\n",
       "    </tr>\n",
       "    <tr>\n",
       "      <td>88</td>\n",
       "      <td>2016 (89th)</td>\n",
       "      <td>Emma Stone</td>\n",
       "      <td>La La Land</td>\n",
       "      <td>BestActress</td>\n",
       "    </tr>\n",
       "    <tr>\n",
       "      <td>89</td>\n",
       "      <td>2017 (90th)</td>\n",
       "      <td>Frances McDormand</td>\n",
       "      <td>Three Billboards Outside Ebbing, Missouri</td>\n",
       "      <td>BestActress</td>\n",
       "    </tr>\n",
       "    <tr>\n",
       "      <td>90</td>\n",
       "      <td>2018 (91st)</td>\n",
       "      <td>Olivia Colman</td>\n",
       "      <td>The Favourite</td>\n",
       "      <td>BestActress</td>\n",
       "    </tr>\n",
       "    <tr>\n",
       "      <td>91</td>\n",
       "      <td>2019 (92nd)</td>\n",
       "      <td>Renée Zellweger</td>\n",
       "      <td>Judy</td>\n",
       "      <td>BestActress</td>\n",
       "    </tr>\n",
       "  </tbody>\n",
       "</table>\n",
       "<p>92 rows × 4 columns</p>\n",
       "</div>"
      ],
      "text/plain": [
       "                   Years        Winner Name  \\\n",
       "0          1927/28 (1st)       Janet Gaynor   \n",
       "1   1928/29(2nd)[note 1]      Mary Pickford   \n",
       "2          1929/30 (3rd)  Norma Shearer [A]   \n",
       "3          1930/31 (4th)     Marie Dressler   \n",
       "4          1931/32 (5th)        Helen Hayes   \n",
       "..                   ...                ...   \n",
       "87           2015 (88th)        Brie Larson   \n",
       "88           2016 (89th)         Emma Stone   \n",
       "89           2017 (90th)  Frances McDormand   \n",
       "90           2018 (91st)      Olivia Colman   \n",
       "91           2019 (92nd)    Renée Zellweger   \n",
       "\n",
       "                                                 Film     Category  \n",
       "0   7th HeavenStreet AngelSunrise: A Song of Two H...  BestActress  \n",
       "1                                            Coquette  BestActress  \n",
       "2                                        The Divorcee  BestActress  \n",
       "3                                        Min and Bill  BestActress  \n",
       "4                          The Sin of Madelon Claudet  BestActress  \n",
       "..                                                ...          ...  \n",
       "87                                               Room  BestActress  \n",
       "88                                         La La Land  BestActress  \n",
       "89          Three Billboards Outside Ebbing, Missouri  BestActress  \n",
       "90                                      The Favourite  BestActress  \n",
       "91                                               Judy  BestActress  \n",
       "\n",
       "[92 rows x 4 columns]"
      ]
     },
     "execution_count": 87,
     "metadata": {},
     "output_type": "execute_result"
    }
   ],
   "source": [
    "bestactress_df"
   ]
  },
  {
   "cell_type": "code",
   "execution_count": 88,
   "metadata": {},
   "outputs": [],
   "source": [
    "#Having trouble with Katherine Hepburn and Barbara Streisand tying in 1968. \n",
    "#Katherine Hepburn's name has (TIE) [C] after her name.\n",
    "#They have special characters after their names and are also listed on separate lines.\n",
    "#Norma Shearer has [A] after her name. I think these are endnotes. Removed."
   ]
  },
  {
   "cell_type": "code",
   "execution_count": 89,
   "metadata": {},
   "outputs": [],
   "source": [
    "actresses = pd.Series(actress).str.split(\"[\").str[0].tolist()"
   ]
  },
  {
   "cell_type": "code",
   "execution_count": 90,
   "metadata": {},
   "outputs": [
    {
     "data": {
      "text/plain": [
       "['Janet Gaynor',\n",
       " 'Mary Pickford',\n",
       " 'Norma Shearer ',\n",
       " 'Marie Dressler',\n",
       " 'Helen Hayes',\n",
       " 'Katharine Hepburn',\n",
       " 'Claudette Colbert',\n",
       " 'Bette Davis',\n",
       " 'Luise Rainer',\n",
       " 'Luise Rainer',\n",
       " 'Bette Davis',\n",
       " 'Vivien Leigh',\n",
       " 'Ginger Rogers',\n",
       " 'Joan Fontaine',\n",
       " 'Greer Garson',\n",
       " 'Jennifer Jones',\n",
       " 'Ingrid Bergman',\n",
       " 'Joan Crawford',\n",
       " 'Olivia de Havilland',\n",
       " 'Loretta Young',\n",
       " 'Jane Wyman',\n",
       " 'Olivia de Havilland',\n",
       " 'Judy Holliday',\n",
       " 'Vivien Leigh',\n",
       " 'Shirley Booth',\n",
       " 'Audrey Hepburn',\n",
       " 'Grace Kelly',\n",
       " 'Anna Magnani',\n",
       " 'Ingrid Bergman',\n",
       " 'Joanne Woodward',\n",
       " 'Susan Hayward',\n",
       " 'Simone Signoret',\n",
       " 'Elizabeth Taylor',\n",
       " 'Sophia Loren',\n",
       " 'Anne Bancroft',\n",
       " 'Patricia Neal',\n",
       " 'Julie Andrews',\n",
       " 'Julie Christie',\n",
       " 'Elizabeth Taylor',\n",
       " 'Katharine Hepburn',\n",
       " 'Katharine Hepburn (TIE) ',\n",
       " 'Maggie Smith',\n",
       " 'Glenda Jackson',\n",
       " 'Jane Fonda',\n",
       " 'Liza Minnelli',\n",
       " 'Glenda Jackson',\n",
       " 'Ellen Burstyn',\n",
       " 'Louise Fletcher',\n",
       " 'Faye Dunaway',\n",
       " 'Diane Keaton',\n",
       " 'Jane Fonda',\n",
       " 'Sally Field',\n",
       " 'Sissy Spacek',\n",
       " 'Katharine Hepburn',\n",
       " 'Meryl Streep',\n",
       " 'Shirley MacLaine',\n",
       " 'Sally Field',\n",
       " 'Geraldine Page',\n",
       " 'Marlee Matlin',\n",
       " 'Cher',\n",
       " 'Jodie Foster',\n",
       " 'Jessica Tandy',\n",
       " 'Kathy Bates',\n",
       " 'Jodie Foster',\n",
       " 'Emma Thompson',\n",
       " 'Holly Hunter',\n",
       " 'Jessica Lange',\n",
       " 'Susan Sarandon',\n",
       " 'Frances McDormand',\n",
       " 'Helen Hunt',\n",
       " 'Gwyneth Paltrow',\n",
       " 'Hilary Swank',\n",
       " 'Julia Roberts',\n",
       " 'Halle Berry',\n",
       " 'Nicole Kidman',\n",
       " 'Charlize Theron',\n",
       " 'Hilary Swank',\n",
       " 'Reese Witherspoon',\n",
       " 'Helen Mirren',\n",
       " 'Marion Cotillard',\n",
       " 'Kate Winslet',\n",
       " 'Sandra Bullock',\n",
       " 'Natalie Portman',\n",
       " 'Meryl Streep',\n",
       " 'Jennifer Lawrence',\n",
       " 'Cate Blanchett',\n",
       " 'Julianne Moore',\n",
       " 'Brie Larson',\n",
       " 'Emma Stone',\n",
       " 'Frances McDormand',\n",
       " 'Olivia Colman',\n",
       " 'Renée Zellweger']"
      ]
     },
     "execution_count": 90,
     "metadata": {},
     "output_type": "execute_result"
    }
   ],
   "source": [
    "actresses"
   ]
  },
  {
   "cell_type": "code",
   "execution_count": null,
   "metadata": {},
   "outputs": [],
   "source": []
  }
 ],
 "metadata": {
  "kernelspec": {
   "display_name": "Python 3",
   "language": "python",
   "name": "python3"
  },
  "language_info": {
   "codemirror_mode": {
    "name": "ipython",
    "version": 3
   },
   "file_extension": ".py",
   "mimetype": "text/x-python",
   "name": "python",
   "nbconvert_exporter": "python",
   "pygments_lexer": "ipython3",
   "version": "3.7.3"
  }
 },
 "nbformat": 4,
 "nbformat_minor": 4
}
