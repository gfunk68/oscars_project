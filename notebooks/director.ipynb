{
 "cells": [
  {
   "cell_type": "code",
   "execution_count": 1,
   "metadata": {},
   "outputs": [],
   "source": [
    "import pandas as pd\n",
    "import re\n",
    "from bs4 import BeautifulSoup as bs\n",
    "import requests\n",
    "import sys\n",
    "import os"
   ]
  },
  {
   "cell_type": "code",
   "execution_count": 2,
   "metadata": {},
   "outputs": [],
   "source": [
    "raw_df = pd.read_html(\"https://en.wikipedia.org/wiki/Academy_Award_for_Best_Director\")[2]"
   ]
  },
  {
   "cell_type": "code",
   "execution_count": 3,
   "metadata": {},
   "outputs": [],
   "source": [
    "director_df = raw_df[raw_df[\"Year\"]!=raw_df[\"Film\"]]"
   ]
  },
  {
   "cell_type": "code",
   "execution_count": 4,
   "metadata": {},
   "outputs": [],
   "source": [
    "list_of_years = director_df.Year.unique()"
   ]
  },
  {
   "cell_type": "code",
   "execution_count": 5,
   "metadata": {},
   "outputs": [],
   "source": [
    "years = []\n",
    "director=[]\n",
    "film=[]\n",
    "\n",
    "\n",
    "for x in list_of_years:\n",
    "    years.append(director_df[director_df[\"Year\"]==x].iloc[0][\"Year\"])\n",
    "    director.append(director_df[director_df[\"Year\"]==x].iloc[0][\"Director(s)\"])\n",
    "    film.append(director_df[director_df[\"Year\"]==x].iloc[0][\"Film\"])"
   ]
  },
  {
   "cell_type": "code",
   "execution_count": 6,
   "metadata": {},
   "outputs": [],
   "source": [
    "directors = []\n",
    "\n",
    "for i in director:\n",
    "    directors.append(i.split(\"&\"))"
   ]
  },
  {
   "cell_type": "code",
   "execution_count": 7,
   "metadata": {},
   "outputs": [],
   "source": [
    "directors_clean =[]\n",
    "\n",
    "for i in directors:\n",
    "    directors_clean.append(i[0])"
   ]
  },
  {
   "cell_type": "code",
   "execution_count": 8,
   "metadata": {},
   "outputs": [],
   "source": [
    "for i in range(len(directors_clean)):\n",
    "    directors_clean[i] = re.sub(\"[\\(\\[].*?[\\)\\]]\", \"\", directors_clean[i])"
   ]
  },
  {
   "cell_type": "code",
   "execution_count": 9,
   "metadata": {},
   "outputs": [],
   "source": [
    "url=[]\n",
    "for i in directors_clean:\n",
    "    url.append(f\"https://en.wikipedia.org/wiki/{i}\")"
   ]
  },
  {
   "cell_type": "code",
   "execution_count": 10,
   "metadata": {},
   "outputs": [],
   "source": [
    "bestdirector_df = pd.DataFrame({\"Years\": years, \"Winner Name\":directors_clean, \"Film\": film, \"Category\":\"Best Director\", \"Wiki URL\":url})\n",
    "bestdirector_df[[\"Year\",\"Oscar Year\"]] = bestdirector_df.Years.str.split(\"(\",expand=True)\n",
    "bestdirector_df[\"Oscar Year\"] = bestdirector_df[\"Oscar Year\"].str.replace(r\"[\\(\\[].*?[\\)\\]]\",\"\")\n",
    "bestdirector_df[\"Oscar Year\"] = bestdirector_df[\"Oscar Year\"].str.replace(\")\",\"\")\n",
    "# bestdirector_df[\"Year\"] = bestdirector_df[\"Year\"].str.replace(r\"\\(.*?\\)\",\"\")\n",
    "bestdirector_df = bestdirector_df[['Year','Oscar Year','Winner Name','Film', \"Category\",'Wiki URL']]"
   ]
  },
  {
   "cell_type": "code",
   "execution_count": 88,
   "metadata": {},
   "outputs": [
    {
     "name": "stdout",
     "output_type": "stream",
     "text": "Oops! <class 'IndexError'> occured\nOops! <class 'IndexError'> occured\nOops! <class 'IndexError'> occured\n"
    }
   ],
   "source": [
    "birthplace =[]\n",
    "birthyear=[]\n",
    "imageURL=[]\n",
    "\n",
    "\n",
    "for x in url:\n",
    "    response = requests.get(x)\n",
    "    soup = bs(response.text, 'html.parser')\n",
    "    try:\n",
    "        birthplace_result = soup.find_all('div', class_='birthplace')[0].text\n",
    "        birthplace.append(birthplace_result)\n",
    "    except: \n",
    "        print(\"Oops!\",sys.exc_info()[0],\"occured\")\n",
    "        birthplace.append('Unknown')\n",
    "    try:\n",
    "        birthyear_result = soup.find_all('span', class_='bday')[0].text[:4]\n",
    "        birthyear.append(birthyear_result)\n",
    "    except:\n",
    "        print(\"Oops!\",sys.exc_info()[0],\"occured\")\n",
    "        birthyear.append('Unknown')"
   ]
  },
  {
   "cell_type": "code",
   "execution_count": 22,
   "metadata": {},
   "outputs": [
    {
     "data": {
      "text/plain": "'/wiki/File:Frank_Lloyd,_Boxoffice_Barometer,_1939.jpg'"
     },
     "execution_count": 22,
     "metadata": {},
     "output_type": "execute_result"
    }
   ],
   "source": [
    "response = requests.get('https://en.wikipedia.org/wiki/Frank_Lloyd')\n",
    "soup = bs(response.text, 'html.parser')\n",
    "imageURL_result = soup.find_all('table', class_='biography')[0].find_all('a')[0].get('href')\n",
    "imageURL_result"
   ]
  },
  {
   "cell_type": "code",
   "execution_count": 90,
   "metadata": {},
   "outputs": [
    {
     "data": {
      "text/html": "<div>\n<style scoped>\n    .dataframe tbody tr th:only-of-type {\n        vertical-align: middle;\n    }\n\n    .dataframe tbody tr th {\n        vertical-align: top;\n    }\n\n    .dataframe thead th {\n        text-align: right;\n    }\n</style>\n<table border=\"1\" class=\"dataframe\">\n  <thead>\n    <tr style=\"text-align: right;\">\n      <th></th>\n      <th>Year</th>\n      <th>Oscar Year</th>\n      <th>Winner Name</th>\n      <th>Film</th>\n      <th>Category</th>\n      <th>Wiki URL</th>\n      <th>Birthplace</th>\n      <th>Birth Year</th>\n    </tr>\n  </thead>\n  <tbody>\n    <tr>\n      <td>0</td>\n      <td>1927/28</td>\n      <td>1st</td>\n      <td>Frank Borzage</td>\n      <td>7th Heaven</td>\n      <td>Best Director</td>\n      <td>https://en.wikipedia.org/wiki/Frank Borzage</td>\n      <td>Salt Lake City, Utah, U.S.</td>\n      <td>1894</td>\n    </tr>\n    <tr>\n      <td>1</td>\n      <td>1928/1929</td>\n      <td>2nd</td>\n      <td>Frank Lloyd</td>\n      <td>The Divine Lady</td>\n      <td>Best Director</td>\n      <td>https://en.wikipedia.org/wiki/Frank Lloyd</td>\n      <td>Glasgow, Scotland, UK</td>\n      <td>Unknown</td>\n    </tr>\n    <tr>\n      <td>2</td>\n      <td>1929/1930</td>\n      <td>3rd</td>\n      <td>Lewis Milestone</td>\n      <td>All Quiet on the Western Front</td>\n      <td>Best Director</td>\n      <td>https://en.wikipedia.org/wiki/Lewis Milestone</td>\n      <td>Chişinău, Bessarabia, Russian Empire (now Mold...</td>\n      <td>1895</td>\n    </tr>\n    <tr>\n      <td>3</td>\n      <td>1930/1931</td>\n      <td>4th</td>\n      <td>Norman Taurog</td>\n      <td>Skippy</td>\n      <td>Best Director</td>\n      <td>https://en.wikipedia.org/wiki/Norman Taurog</td>\n      <td>Chicago, Illinois, United States</td>\n      <td>1899</td>\n    </tr>\n    <tr>\n      <td>4</td>\n      <td>1931/1932</td>\n      <td>5th</td>\n      <td>Frank Borzage</td>\n      <td>Bad Girl</td>\n      <td>Best Director</td>\n      <td>https://en.wikipedia.org/wiki/Frank Borzage</td>\n      <td>Salt Lake City, Utah, U.S.</td>\n      <td>1894</td>\n    </tr>\n    <tr>\n      <td>5</td>\n      <td>1932/1933</td>\n      <td>6th</td>\n      <td>Frank Lloyd</td>\n      <td>Cavalcade</td>\n      <td>Best Director</td>\n      <td>https://en.wikipedia.org/wiki/Frank Lloyd</td>\n      <td>Glasgow, Scotland, UK</td>\n      <td>Unknown</td>\n    </tr>\n    <tr>\n      <td>6</td>\n      <td>1934</td>\n      <td>7th</td>\n      <td>Frank Capra</td>\n      <td>It Happened One Night</td>\n      <td>Best Director</td>\n      <td>https://en.wikipedia.org/wiki/Frank Capra</td>\n      <td>Bisacquino, Italy</td>\n      <td>1897</td>\n    </tr>\n    <tr>\n      <td>7</td>\n      <td>1935</td>\n      <td>8th</td>\n      <td>John Ford</td>\n      <td>The Informer</td>\n      <td>Best Director</td>\n      <td>https://en.wikipedia.org/wiki/John Ford</td>\n      <td>Cape Elizabeth, Maine, U.S.</td>\n      <td>1894</td>\n    </tr>\n    <tr>\n      <td>8</td>\n      <td>1936</td>\n      <td>9th</td>\n      <td>Frank Capra</td>\n      <td>Mr. Deeds Goes to Town</td>\n      <td>Best Director</td>\n      <td>https://en.wikipedia.org/wiki/Frank Capra</td>\n      <td>Bisacquino, Italy</td>\n      <td>1897</td>\n    </tr>\n    <tr>\n      <td>9</td>\n      <td>1937</td>\n      <td>10th</td>\n      <td>Leo McCarey</td>\n      <td>The Awful Truth</td>\n      <td>Best Director</td>\n      <td>https://en.wikipedia.org/wiki/Leo McCarey</td>\n      <td>Los Angeles, California, U.S.</td>\n      <td>1898</td>\n    </tr>\n    <tr>\n      <td>10</td>\n      <td>1938</td>\n      <td>11th</td>\n      <td>Frank Capra</td>\n      <td>You Can't Take It with You</td>\n      <td>Best Director</td>\n      <td>https://en.wikipedia.org/wiki/Frank Capra</td>\n      <td>Bisacquino, Italy</td>\n      <td>1897</td>\n    </tr>\n    <tr>\n      <td>11</td>\n      <td>1939</td>\n      <td>12th</td>\n      <td>Victor Fleming</td>\n      <td>Gone with the Wind</td>\n      <td>Best Director</td>\n      <td>https://en.wikipedia.org/wiki/Victor Fleming</td>\n      <td>La Cañada Flintridge, California; US</td>\n      <td>1889</td>\n    </tr>\n    <tr>\n      <td>12</td>\n      <td>1940</td>\n      <td>13th</td>\n      <td>John Ford</td>\n      <td>The Grapes of Wrath</td>\n      <td>Best Director</td>\n      <td>https://en.wikipedia.org/wiki/John Ford</td>\n      <td>Cape Elizabeth, Maine, U.S.</td>\n      <td>1894</td>\n    </tr>\n    <tr>\n      <td>13</td>\n      <td>1941</td>\n      <td>14th</td>\n      <td>John Ford</td>\n      <td>How Green Was My Valley</td>\n      <td>Best Director</td>\n      <td>https://en.wikipedia.org/wiki/John Ford</td>\n      <td>Cape Elizabeth, Maine, U.S.</td>\n      <td>1894</td>\n    </tr>\n    <tr>\n      <td>14</td>\n      <td>1942</td>\n      <td>15th</td>\n      <td>William Wyler</td>\n      <td>Mrs. Miniver</td>\n      <td>Best Director</td>\n      <td>https://en.wikipedia.org/wiki/William Wyler</td>\n      <td>Mülhausen, Alsace-Lorraine, German Empire (pre...</td>\n      <td>1902</td>\n    </tr>\n    <tr>\n      <td>15</td>\n      <td>1943</td>\n      <td>16th</td>\n      <td>Michael Curtiz</td>\n      <td>Casablanca</td>\n      <td>Best Director</td>\n      <td>https://en.wikipedia.org/wiki/Michael Curtiz</td>\n      <td>Budapest, Austria-Hungary (now Hungary)</td>\n      <td>1886</td>\n    </tr>\n    <tr>\n      <td>16</td>\n      <td>1944</td>\n      <td>17th</td>\n      <td>Leo McCarey</td>\n      <td>Going My Way</td>\n      <td>Best Director</td>\n      <td>https://en.wikipedia.org/wiki/Leo McCarey</td>\n      <td>Los Angeles, California, U.S.</td>\n      <td>1898</td>\n    </tr>\n    <tr>\n      <td>17</td>\n      <td>1945</td>\n      <td>18th</td>\n      <td>Billy Wilder</td>\n      <td>The Lost Weekend</td>\n      <td>Best Director</td>\n      <td>https://en.wikipedia.org/wiki/Billy Wilder</td>\n      <td>Sucha, Kingdom of Galicia and Lodomeria, Austr...</td>\n      <td>1906</td>\n    </tr>\n    <tr>\n      <td>18</td>\n      <td>1946</td>\n      <td>19th</td>\n      <td>William Wyler</td>\n      <td>The Best Years of Our Lives</td>\n      <td>Best Director</td>\n      <td>https://en.wikipedia.org/wiki/William Wyler</td>\n      <td>Mülhausen, Alsace-Lorraine, German Empire (pre...</td>\n      <td>1902</td>\n    </tr>\n    <tr>\n      <td>19</td>\n      <td>1947</td>\n      <td>20th</td>\n      <td>Elia Kazan</td>\n      <td>Gentleman's Agreement</td>\n      <td>Best Director</td>\n      <td>https://en.wikipedia.org/wiki/Elia Kazan</td>\n      <td>Constantinople, Ottoman Empire (now Istanbul, ...</td>\n      <td>1909</td>\n    </tr>\n  </tbody>\n</table>\n</div>",
      "text/plain": "         Year Oscar Year      Winner Name                            Film  \\\n0    1927/28         1st   Frank Borzage                       7th Heaven   \n1   1928/1929        2nd      Frank Lloyd                 The Divine Lady   \n2   1929/1930        3rd  Lewis Milestone  All Quiet on the Western Front   \n3   1930/1931        4th    Norman Taurog                          Skippy   \n4   1931/1932        5th    Frank Borzage                        Bad Girl   \n5   1932/1933        6th      Frank Lloyd                       Cavalcade   \n6        1934        7th      Frank Capra           It Happened One Night   \n7        1935        8th        John Ford                    The Informer   \n8        1936        9th      Frank Capra          Mr. Deeds Goes to Town   \n9        1937       10th      Leo McCarey                 The Awful Truth   \n10       1938       11th      Frank Capra      You Can't Take It with You   \n11       1939       12th   Victor Fleming              Gone with the Wind   \n12       1940       13th        John Ford             The Grapes of Wrath   \n13       1941       14th        John Ford         How Green Was My Valley   \n14       1942       15th    William Wyler                    Mrs. Miniver   \n15       1943       16th   Michael Curtiz                      Casablanca   \n16       1944       17th      Leo McCarey                    Going My Way   \n17       1945       18th     Billy Wilder                The Lost Weekend   \n18       1946       19th    William Wyler     The Best Years of Our Lives   \n19       1947       20th       Elia Kazan           Gentleman's Agreement   \n\n         Category                                       Wiki URL  \\\n0   Best Director   https://en.wikipedia.org/wiki/Frank Borzage    \n1   Best Director      https://en.wikipedia.org/wiki/Frank Lloyd   \n2   Best Director  https://en.wikipedia.org/wiki/Lewis Milestone   \n3   Best Director    https://en.wikipedia.org/wiki/Norman Taurog   \n4   Best Director    https://en.wikipedia.org/wiki/Frank Borzage   \n5   Best Director      https://en.wikipedia.org/wiki/Frank Lloyd   \n6   Best Director      https://en.wikipedia.org/wiki/Frank Capra   \n7   Best Director        https://en.wikipedia.org/wiki/John Ford   \n8   Best Director      https://en.wikipedia.org/wiki/Frank Capra   \n9   Best Director      https://en.wikipedia.org/wiki/Leo McCarey   \n10  Best Director      https://en.wikipedia.org/wiki/Frank Capra   \n11  Best Director   https://en.wikipedia.org/wiki/Victor Fleming   \n12  Best Director        https://en.wikipedia.org/wiki/John Ford   \n13  Best Director        https://en.wikipedia.org/wiki/John Ford   \n14  Best Director    https://en.wikipedia.org/wiki/William Wyler   \n15  Best Director   https://en.wikipedia.org/wiki/Michael Curtiz   \n16  Best Director      https://en.wikipedia.org/wiki/Leo McCarey   \n17  Best Director     https://en.wikipedia.org/wiki/Billy Wilder   \n18  Best Director    https://en.wikipedia.org/wiki/William Wyler   \n19  Best Director       https://en.wikipedia.org/wiki/Elia Kazan   \n\n                                           Birthplace Birth Year  \n0                          Salt Lake City, Utah, U.S.       1894  \n1                               Glasgow, Scotland, UK    Unknown  \n2   Chişinău, Bessarabia, Russian Empire (now Mold...       1895  \n3                    Chicago, Illinois, United States       1899  \n4                          Salt Lake City, Utah, U.S.       1894  \n5                               Glasgow, Scotland, UK    Unknown  \n6                                   Bisacquino, Italy       1897  \n7                         Cape Elizabeth, Maine, U.S.       1894  \n8                                   Bisacquino, Italy       1897  \n9                       Los Angeles, California, U.S.       1898  \n10                                  Bisacquino, Italy       1897  \n11               La Cañada Flintridge, California; US       1889  \n12                        Cape Elizabeth, Maine, U.S.       1894  \n13                        Cape Elizabeth, Maine, U.S.       1894  \n14  Mülhausen, Alsace-Lorraine, German Empire (pre...       1902  \n15            Budapest, Austria-Hungary (now Hungary)       1886  \n16                      Los Angeles, California, U.S.       1898  \n17  Sucha, Kingdom of Galicia and Lodomeria, Austr...       1906  \n18  Mülhausen, Alsace-Lorraine, German Empire (pre...       1902  \n19  Constantinople, Ottoman Empire (now Istanbul, ...       1909  "
     },
     "execution_count": 90,
     "metadata": {},
     "output_type": "execute_result"
    }
   ],
   "source": [
    "bestdirector_df['Birthplace']=birthplace\n",
    "bestdirector_df[\"Birth Year\"]=birthyear\n",
    "bestdirector_df.to_csv(\"bestdirector.csv\",index=False)\n",
    "bestdirector_df.head(20)"
   ]
  },
  {
   "cell_type": "code",
   "execution_count": null,
   "metadata": {},
   "outputs": [],
   "source": []
  }
 ],
 "metadata": {
  "kernelspec": {
   "display_name": "Python 3",
   "language": "python",
   "name": "python3"
  },
  "language_info": {
   "codemirror_mode": {
    "name": "ipython",
    "version": 3
   },
   "file_extension": ".py",
   "mimetype": "text/x-python",
   "name": "python",
   "nbconvert_exporter": "python",
   "pygments_lexer": "ipython3",
   "version": "3.7.4-final"
  }
 },
 "nbformat": 4,
 "nbformat_minor": 4
}